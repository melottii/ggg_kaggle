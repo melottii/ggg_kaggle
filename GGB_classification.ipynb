{
 "nbformat": 4,
 "nbformat_minor": 0,
 "metadata": {
  "colab": {
   "provenance": [],
   "collapsed_sections": [
    "JrWxI9hWrtFK"
   ],
   "mount_file_id": "1CvQNsyMu-jMz0IBIaubDXI8Y1ydnLiRh",
   "authorship_tag": "ABX9TyOfkhAv3e+r+9g0zAgrXqaB"
  },
  "kernelspec": {
   "name": "python3",
   "display_name": "Python 3 (ipykernel)",
   "language": "python"
  },
  "language_info": {
   "name": "python"
  }
 },
 "cells": [
  {
   "cell_type": "markdown",
   "source": [
    "# **Descrição**\n",
    "\n",
    "**Nome do aluno:** Matheus X. Melotti.\n",
    "\n",
    "Este notebook apresenta a solução para o desafio \"Ghouls, Goblins and Ghosts...\" proposto pela Kaggle. Cujo o objetivo é identificar e classificar corretamente criaturas sobrenaturais que estão assombrando a Kaggle usando algoritmos de machine learning.\n",
    "\n",
    "**Dados disponibilizados:**\n",
    "\n",
    "**File descriptions:**\n",
    "- train.csv - the training set\n",
    "- test.csv - the test set\n",
    "- sample_submission.csv - a sample submission file in the correct format\n",
    "\n",
    "**Data fields:**\n",
    "- id - id da criatura\n",
    "- bone_length - comprimento médio do osso na criatura, normalizado entre 0 e 1\n",
    "- rotting_flesh - porcentagem de carne podre na criatura\n",
    "- hair_length - comprimento médio do cabelo, normalizado entre 0 e 1\n",
    "- has_soul - porcentagem de alma na criatura\n",
    "- color - cor dominante da criatura: 'white','black','clear','blue','green','blood'\n",
    "- type - variável de destino: 'Ghost', 'Goblin', and 'Ghoul'\n",
    "\n",
    "Link do desafio no kaggle: https://www.kaggle.com/competitions/ghouls-goblins-and-ghosts-boo/overview"
   ],
   "metadata": {
    "id": "Gpx33i24e7F9"
   }
  },
  {
   "cell_type": "code",
   "source": [
    "import os\n",
    "import pandas as pd\n",
    "import numpy as np\n",
    "from matplotlib import pyplot as plt\n",
    "\n",
    "from sklearn.preprocessing import LabelEncoder\n",
    "from sklearn.naive_bayes import GaussianNB\n",
    "from sklearn.naive_bayes import BernoulliNB\n",
    "from sklearn.linear_model import LogisticRegression\n",
    "from sklearn.tree import DecisionTreeClassifier\n",
    "from sklearn.ensemble import RandomForestClassifier\n",
    "from sklearn.ensemble import GradientBoostingClassifier\n",
    "from sklearn.neighbors import KNeighborsClassifier\n",
    "\n",
    "from sklearn.metrics import accuracy_score, precision_score, recall_score\n",
    "from sklearn.metrics import f1_score, confusion_matrix, classification_report\n",
    "from sklearn.model_selection import train_test_split"
   ],
   "metadata": {
    "id": "SQufqg7JTcrL",
    "executionInfo": {
     "status": "ok",
     "timestamp": 1719174397049,
     "user_tz": 180,
     "elapsed": 1691,
     "user": {
      "displayName": "Melotti",
      "userId": "17660559320925208263"
     }
    },
    "ExecuteTime": {
     "end_time": "2024-07-01T15:45:01.296079Z",
     "start_time": "2024-07-01T15:44:59.320295Z"
    }
   },
   "outputs": [],
   "execution_count": 1
  },
  {
   "cell_type": "code",
   "source": "workdir = os.path.join(os.getcwd())",
   "metadata": {
    "id": "sR4-RNpiTW_V",
    "executionInfo": {
     "status": "ok",
     "timestamp": 1719174398975,
     "user_tz": 180,
     "elapsed": 4,
     "user": {
      "displayName": "Melotti",
      "userId": "17660559320925208263"
     }
    },
    "ExecuteTime": {
     "end_time": "2024-07-01T15:45:37.815432Z",
     "start_time": "2024-07-01T15:45:37.811632Z"
    }
   },
   "outputs": [],
   "execution_count": 3
  },
  {
   "cell_type": "markdown",
   "source": [
    "## Carregando os datasets"
   ],
   "metadata": {
    "id": "FJYQo7NBUG8m"
   }
  },
  {
   "cell_type": "code",
   "source": [
    "df_ssub = pd.read_csv(os.path.join(workdir, \"Resources/sample_submission.csv\"))\n",
    "df_ssub.head()"
   ],
   "metadata": {
    "colab": {
     "base_uri": "https://localhost:8080/",
     "height": 206
    },
    "id": "129cMjs_Tp0M",
    "executionInfo": {
     "status": "ok",
     "timestamp": 1719174398975,
     "user_tz": 180,
     "elapsed": 3,
     "user": {
      "displayName": "Melotti",
      "userId": "17660559320925208263"
     }
    },
    "outputId": "bad56dd0-a9fa-4fab-c9fb-2481311c327c",
    "ExecuteTime": {
     "end_time": "2024-07-01T15:45:39.890816Z",
     "start_time": "2024-07-01T15:45:39.863035Z"
    }
   },
   "outputs": [
    {
     "data": {
      "text/plain": [
       "   id   type\n",
       "0   3  Ghost\n",
       "1   6  Ghost\n",
       "2   9  Ghost\n",
       "3  10  Ghost\n",
       "4  13  Ghost"
      ],
      "text/html": [
       "<div>\n",
       "<style scoped>\n",
       "    .dataframe tbody tr th:only-of-type {\n",
       "        vertical-align: middle;\n",
       "    }\n",
       "\n",
       "    .dataframe tbody tr th {\n",
       "        vertical-align: top;\n",
       "    }\n",
       "\n",
       "    .dataframe thead th {\n",
       "        text-align: right;\n",
       "    }\n",
       "</style>\n",
       "<table border=\"1\" class=\"dataframe\">\n",
       "  <thead>\n",
       "    <tr style=\"text-align: right;\">\n",
       "      <th></th>\n",
       "      <th>id</th>\n",
       "      <th>type</th>\n",
       "    </tr>\n",
       "  </thead>\n",
       "  <tbody>\n",
       "    <tr>\n",
       "      <th>0</th>\n",
       "      <td>3</td>\n",
       "      <td>Ghost</td>\n",
       "    </tr>\n",
       "    <tr>\n",
       "      <th>1</th>\n",
       "      <td>6</td>\n",
       "      <td>Ghost</td>\n",
       "    </tr>\n",
       "    <tr>\n",
       "      <th>2</th>\n",
       "      <td>9</td>\n",
       "      <td>Ghost</td>\n",
       "    </tr>\n",
       "    <tr>\n",
       "      <th>3</th>\n",
       "      <td>10</td>\n",
       "      <td>Ghost</td>\n",
       "    </tr>\n",
       "    <tr>\n",
       "      <th>4</th>\n",
       "      <td>13</td>\n",
       "      <td>Ghost</td>\n",
       "    </tr>\n",
       "  </tbody>\n",
       "</table>\n",
       "</div>"
      ]
     },
     "execution_count": 4,
     "metadata": {},
     "output_type": "execute_result"
    }
   ],
   "execution_count": 4
  },
  {
   "cell_type": "code",
   "source": [
    "df_train = pd.read_csv(os.path.join(workdir, \"Resources/train.csv\"))\n",
    "df_train_aux = df_train.copy()\n",
    "display(len(df_train))\n",
    "df_train.head()"
   ],
   "metadata": {
    "colab": {
     "base_uri": "https://localhost:8080/",
     "height": 223
    },
    "id": "WJt3kOqbTrmx",
    "executionInfo": {
     "status": "ok",
     "timestamp": 1719175741504,
     "user_tz": 180,
     "elapsed": 305,
     "user": {
      "displayName": "Melotti",
      "userId": "17660559320925208263"
     }
    },
    "outputId": "0c7b7a99-ccb0-4903-a3fd-b99695cdfefe",
    "ExecuteTime": {
     "end_time": "2024-07-01T15:45:44.022649Z",
     "start_time": "2024-07-01T15:45:44.005485Z"
    }
   },
   "outputs": [
    {
     "data": {
      "text/plain": [
       "371"
      ]
     },
     "metadata": {},
     "output_type": "display_data"
    },
    {
     "data": {
      "text/plain": [
       "   id  bone_length  rotting_flesh  hair_length  has_soul  color    type\n",
       "0   0     0.354512       0.350839     0.465761  0.781142  clear   Ghoul\n",
       "1   1     0.575560       0.425868     0.531401  0.439899  green  Goblin\n",
       "2   2     0.467875       0.354330     0.811616  0.791225  black   Ghoul\n",
       "3   4     0.776652       0.508723     0.636766  0.884464  black   Ghoul\n",
       "4   5     0.566117       0.875862     0.418594  0.636438  green   Ghost"
      ],
      "text/html": [
       "<div>\n",
       "<style scoped>\n",
       "    .dataframe tbody tr th:only-of-type {\n",
       "        vertical-align: middle;\n",
       "    }\n",
       "\n",
       "    .dataframe tbody tr th {\n",
       "        vertical-align: top;\n",
       "    }\n",
       "\n",
       "    .dataframe thead th {\n",
       "        text-align: right;\n",
       "    }\n",
       "</style>\n",
       "<table border=\"1\" class=\"dataframe\">\n",
       "  <thead>\n",
       "    <tr style=\"text-align: right;\">\n",
       "      <th></th>\n",
       "      <th>id</th>\n",
       "      <th>bone_length</th>\n",
       "      <th>rotting_flesh</th>\n",
       "      <th>hair_length</th>\n",
       "      <th>has_soul</th>\n",
       "      <th>color</th>\n",
       "      <th>type</th>\n",
       "    </tr>\n",
       "  </thead>\n",
       "  <tbody>\n",
       "    <tr>\n",
       "      <th>0</th>\n",
       "      <td>0</td>\n",
       "      <td>0.354512</td>\n",
       "      <td>0.350839</td>\n",
       "      <td>0.465761</td>\n",
       "      <td>0.781142</td>\n",
       "      <td>clear</td>\n",
       "      <td>Ghoul</td>\n",
       "    </tr>\n",
       "    <tr>\n",
       "      <th>1</th>\n",
       "      <td>1</td>\n",
       "      <td>0.575560</td>\n",
       "      <td>0.425868</td>\n",
       "      <td>0.531401</td>\n",
       "      <td>0.439899</td>\n",
       "      <td>green</td>\n",
       "      <td>Goblin</td>\n",
       "    </tr>\n",
       "    <tr>\n",
       "      <th>2</th>\n",
       "      <td>2</td>\n",
       "      <td>0.467875</td>\n",
       "      <td>0.354330</td>\n",
       "      <td>0.811616</td>\n",
       "      <td>0.791225</td>\n",
       "      <td>black</td>\n",
       "      <td>Ghoul</td>\n",
       "    </tr>\n",
       "    <tr>\n",
       "      <th>3</th>\n",
       "      <td>4</td>\n",
       "      <td>0.776652</td>\n",
       "      <td>0.508723</td>\n",
       "      <td>0.636766</td>\n",
       "      <td>0.884464</td>\n",
       "      <td>black</td>\n",
       "      <td>Ghoul</td>\n",
       "    </tr>\n",
       "    <tr>\n",
       "      <th>4</th>\n",
       "      <td>5</td>\n",
       "      <td>0.566117</td>\n",
       "      <td>0.875862</td>\n",
       "      <td>0.418594</td>\n",
       "      <td>0.636438</td>\n",
       "      <td>green</td>\n",
       "      <td>Ghost</td>\n",
       "    </tr>\n",
       "  </tbody>\n",
       "</table>\n",
       "</div>"
      ]
     },
     "execution_count": 5,
     "metadata": {},
     "output_type": "execute_result"
    }
   ],
   "execution_count": 5
  },
  {
   "cell_type": "code",
   "source": [
    "df_test = pd.read_csv(os.path.join(workdir, \"Resources/test.csv\"))\n",
    "df_test_aux = df_test.copy()\n",
    "display(len(df_test))\n",
    "df_test.head()"
   ],
   "metadata": {
    "colab": {
     "base_uri": "https://localhost:8080/",
     "height": 223
    },
    "id": "k3ALSXRoT_jQ",
    "executionInfo": {
     "status": "ok",
     "timestamp": 1719175749938,
     "user_tz": 180,
     "elapsed": 297,
     "user": {
      "displayName": "Melotti",
      "userId": "17660559320925208263"
     }
    },
    "outputId": "f04af748-33d3-44ab-93e7-7bb8127381f4",
    "ExecuteTime": {
     "end_time": "2024-07-01T15:45:46.447373Z",
     "start_time": "2024-07-01T15:45:46.428935Z"
    }
   },
   "outputs": [
    {
     "data": {
      "text/plain": [
       "529"
      ]
     },
     "metadata": {},
     "output_type": "display_data"
    },
    {
     "data": {
      "text/plain": [
       "   id  bone_length  rotting_flesh  hair_length  has_soul  color\n",
       "0   3     0.471774       0.387937     0.706087  0.698537  black\n",
       "1   6     0.427332       0.645024     0.565558  0.451462  white\n",
       "2   9     0.549602       0.491931     0.660387  0.449809  black\n",
       "3  10     0.638095       0.682867     0.471409  0.356924  white\n",
       "4  13     0.361762       0.583997     0.377256  0.276364  black"
      ],
      "text/html": [
       "<div>\n",
       "<style scoped>\n",
       "    .dataframe tbody tr th:only-of-type {\n",
       "        vertical-align: middle;\n",
       "    }\n",
       "\n",
       "    .dataframe tbody tr th {\n",
       "        vertical-align: top;\n",
       "    }\n",
       "\n",
       "    .dataframe thead th {\n",
       "        text-align: right;\n",
       "    }\n",
       "</style>\n",
       "<table border=\"1\" class=\"dataframe\">\n",
       "  <thead>\n",
       "    <tr style=\"text-align: right;\">\n",
       "      <th></th>\n",
       "      <th>id</th>\n",
       "      <th>bone_length</th>\n",
       "      <th>rotting_flesh</th>\n",
       "      <th>hair_length</th>\n",
       "      <th>has_soul</th>\n",
       "      <th>color</th>\n",
       "    </tr>\n",
       "  </thead>\n",
       "  <tbody>\n",
       "    <tr>\n",
       "      <th>0</th>\n",
       "      <td>3</td>\n",
       "      <td>0.471774</td>\n",
       "      <td>0.387937</td>\n",
       "      <td>0.706087</td>\n",
       "      <td>0.698537</td>\n",
       "      <td>black</td>\n",
       "    </tr>\n",
       "    <tr>\n",
       "      <th>1</th>\n",
       "      <td>6</td>\n",
       "      <td>0.427332</td>\n",
       "      <td>0.645024</td>\n",
       "      <td>0.565558</td>\n",
       "      <td>0.451462</td>\n",
       "      <td>white</td>\n",
       "    </tr>\n",
       "    <tr>\n",
       "      <th>2</th>\n",
       "      <td>9</td>\n",
       "      <td>0.549602</td>\n",
       "      <td>0.491931</td>\n",
       "      <td>0.660387</td>\n",
       "      <td>0.449809</td>\n",
       "      <td>black</td>\n",
       "    </tr>\n",
       "    <tr>\n",
       "      <th>3</th>\n",
       "      <td>10</td>\n",
       "      <td>0.638095</td>\n",
       "      <td>0.682867</td>\n",
       "      <td>0.471409</td>\n",
       "      <td>0.356924</td>\n",
       "      <td>white</td>\n",
       "    </tr>\n",
       "    <tr>\n",
       "      <th>4</th>\n",
       "      <td>13</td>\n",
       "      <td>0.361762</td>\n",
       "      <td>0.583997</td>\n",
       "      <td>0.377256</td>\n",
       "      <td>0.276364</td>\n",
       "      <td>black</td>\n",
       "    </tr>\n",
       "  </tbody>\n",
       "</table>\n",
       "</div>"
      ]
     },
     "execution_count": 6,
     "metadata": {},
     "output_type": "execute_result"
    }
   ],
   "execution_count": 6
  },
  {
   "cell_type": "code",
   "source": [
    "total = len(df_test) + len(df_train)\n",
    "print(\"Porcentagem da base alocada para treino: \", len(df_train)*100/total)\n",
    "print(\"Porcentagem da base alocada para teste: \", len(df_test)*100/total)"
   ],
   "metadata": {
    "colab": {
     "base_uri": "https://localhost:8080/"
    },
    "id": "qvuQotku3D6S",
    "executionInfo": {
     "status": "ok",
     "timestamp": 1719175840876,
     "user_tz": 180,
     "elapsed": 282,
     "user": {
      "displayName": "Melotti",
      "userId": "17660559320925208263"
     }
    },
    "outputId": "559b0cd0-4738-4509-b736-2fc42bd57352",
    "ExecuteTime": {
     "end_time": "2024-07-01T15:45:50.562305Z",
     "start_time": "2024-07-01T15:45:50.557428Z"
    }
   },
   "outputs": [
    {
     "name": "stdout",
     "output_type": "stream",
     "text": [
      "Porcentagem da base alocada para treino:  41.22222222222222\n",
      "Porcentagem da base alocada para teste:  58.77777777777778\n"
     ]
    }
   ],
   "execution_count": 7
  },
  {
   "cell_type": "markdown",
   "source": [
    "## Descrevendo os dados"
   ],
   "metadata": {
    "id": "hORFCVPSUK_M"
   }
  },
  {
   "cell_type": "code",
   "source": [
    "df_train.head(20)"
   ],
   "metadata": {
    "colab": {
     "base_uri": "https://localhost:8080/",
     "height": 676
    },
    "id": "rpcr64fUULUl",
    "executionInfo": {
     "status": "ok",
     "timestamp": 1719174399500,
     "user_tz": 180,
     "elapsed": 7,
     "user": {
      "displayName": "Melotti",
      "userId": "17660559320925208263"
     }
    },
    "outputId": "44f53784-97bf-4278-c695-b616443d2cee",
    "ExecuteTime": {
     "end_time": "2024-07-01T15:45:52.282665Z",
     "start_time": "2024-07-01T15:45:52.272988Z"
    }
   },
   "outputs": [
    {
     "data": {
      "text/plain": [
       "    id  bone_length  rotting_flesh  hair_length  has_soul  color    type\n",
       "0    0     0.354512       0.350839     0.465761  0.781142  clear   Ghoul\n",
       "1    1     0.575560       0.425868     0.531401  0.439899  green  Goblin\n",
       "2    2     0.467875       0.354330     0.811616  0.791225  black   Ghoul\n",
       "3    4     0.776652       0.508723     0.636766  0.884464  black   Ghoul\n",
       "4    5     0.566117       0.875862     0.418594  0.636438  green   Ghost\n",
       "5    7     0.405680       0.253277     0.441420  0.280324  green  Goblin\n",
       "6    8     0.399331       0.568952     0.618391  0.467901  white  Goblin\n",
       "7   11     0.516224       0.536429     0.612776  0.468048  clear   Ghoul\n",
       "8   12     0.314295       0.671280     0.417267  0.227548   blue   Ghost\n",
       "9   19     0.280942       0.701457     0.179633  0.141183  white   Ghost\n",
       "10  22     0.431685       0.438959     0.239212  0.471820  clear  Goblin\n",
       "11  23     0.584543       0.593082     0.681166  0.935721  clear   Ghoul\n",
       "12  25     0.390712       0.335069     0.556109  0.784217  white   Ghoul\n",
       "13  27     0.351559       0.471078     0.484458  0.465328  black  Goblin\n",
       "14  28     0.513387       0.301345     0.745676  0.545792  clear  Goblin\n",
       "15  29     0.500197       0.438418     0.532530  0.665522  clear   Ghoul\n",
       "16  30     0.250770       0.246258     0.554654  0.250036  black   Ghost\n",
       "17  31     0.585559       0.585939     1.000000  0.708692  black   Ghoul\n",
       "18  32     0.605836       0.587943     0.529361  0.526718   blue   Ghoul\n",
       "19  34     0.524080       0.750988     0.524637  0.443358  green   Ghost"
      ],
      "text/html": [
       "<div>\n",
       "<style scoped>\n",
       "    .dataframe tbody tr th:only-of-type {\n",
       "        vertical-align: middle;\n",
       "    }\n",
       "\n",
       "    .dataframe tbody tr th {\n",
       "        vertical-align: top;\n",
       "    }\n",
       "\n",
       "    .dataframe thead th {\n",
       "        text-align: right;\n",
       "    }\n",
       "</style>\n",
       "<table border=\"1\" class=\"dataframe\">\n",
       "  <thead>\n",
       "    <tr style=\"text-align: right;\">\n",
       "      <th></th>\n",
       "      <th>id</th>\n",
       "      <th>bone_length</th>\n",
       "      <th>rotting_flesh</th>\n",
       "      <th>hair_length</th>\n",
       "      <th>has_soul</th>\n",
       "      <th>color</th>\n",
       "      <th>type</th>\n",
       "    </tr>\n",
       "  </thead>\n",
       "  <tbody>\n",
       "    <tr>\n",
       "      <th>0</th>\n",
       "      <td>0</td>\n",
       "      <td>0.354512</td>\n",
       "      <td>0.350839</td>\n",
       "      <td>0.465761</td>\n",
       "      <td>0.781142</td>\n",
       "      <td>clear</td>\n",
       "      <td>Ghoul</td>\n",
       "    </tr>\n",
       "    <tr>\n",
       "      <th>1</th>\n",
       "      <td>1</td>\n",
       "      <td>0.575560</td>\n",
       "      <td>0.425868</td>\n",
       "      <td>0.531401</td>\n",
       "      <td>0.439899</td>\n",
       "      <td>green</td>\n",
       "      <td>Goblin</td>\n",
       "    </tr>\n",
       "    <tr>\n",
       "      <th>2</th>\n",
       "      <td>2</td>\n",
       "      <td>0.467875</td>\n",
       "      <td>0.354330</td>\n",
       "      <td>0.811616</td>\n",
       "      <td>0.791225</td>\n",
       "      <td>black</td>\n",
       "      <td>Ghoul</td>\n",
       "    </tr>\n",
       "    <tr>\n",
       "      <th>3</th>\n",
       "      <td>4</td>\n",
       "      <td>0.776652</td>\n",
       "      <td>0.508723</td>\n",
       "      <td>0.636766</td>\n",
       "      <td>0.884464</td>\n",
       "      <td>black</td>\n",
       "      <td>Ghoul</td>\n",
       "    </tr>\n",
       "    <tr>\n",
       "      <th>4</th>\n",
       "      <td>5</td>\n",
       "      <td>0.566117</td>\n",
       "      <td>0.875862</td>\n",
       "      <td>0.418594</td>\n",
       "      <td>0.636438</td>\n",
       "      <td>green</td>\n",
       "      <td>Ghost</td>\n",
       "    </tr>\n",
       "    <tr>\n",
       "      <th>5</th>\n",
       "      <td>7</td>\n",
       "      <td>0.405680</td>\n",
       "      <td>0.253277</td>\n",
       "      <td>0.441420</td>\n",
       "      <td>0.280324</td>\n",
       "      <td>green</td>\n",
       "      <td>Goblin</td>\n",
       "    </tr>\n",
       "    <tr>\n",
       "      <th>6</th>\n",
       "      <td>8</td>\n",
       "      <td>0.399331</td>\n",
       "      <td>0.568952</td>\n",
       "      <td>0.618391</td>\n",
       "      <td>0.467901</td>\n",
       "      <td>white</td>\n",
       "      <td>Goblin</td>\n",
       "    </tr>\n",
       "    <tr>\n",
       "      <th>7</th>\n",
       "      <td>11</td>\n",
       "      <td>0.516224</td>\n",
       "      <td>0.536429</td>\n",
       "      <td>0.612776</td>\n",
       "      <td>0.468048</td>\n",
       "      <td>clear</td>\n",
       "      <td>Ghoul</td>\n",
       "    </tr>\n",
       "    <tr>\n",
       "      <th>8</th>\n",
       "      <td>12</td>\n",
       "      <td>0.314295</td>\n",
       "      <td>0.671280</td>\n",
       "      <td>0.417267</td>\n",
       "      <td>0.227548</td>\n",
       "      <td>blue</td>\n",
       "      <td>Ghost</td>\n",
       "    </tr>\n",
       "    <tr>\n",
       "      <th>9</th>\n",
       "      <td>19</td>\n",
       "      <td>0.280942</td>\n",
       "      <td>0.701457</td>\n",
       "      <td>0.179633</td>\n",
       "      <td>0.141183</td>\n",
       "      <td>white</td>\n",
       "      <td>Ghost</td>\n",
       "    </tr>\n",
       "    <tr>\n",
       "      <th>10</th>\n",
       "      <td>22</td>\n",
       "      <td>0.431685</td>\n",
       "      <td>0.438959</td>\n",
       "      <td>0.239212</td>\n",
       "      <td>0.471820</td>\n",
       "      <td>clear</td>\n",
       "      <td>Goblin</td>\n",
       "    </tr>\n",
       "    <tr>\n",
       "      <th>11</th>\n",
       "      <td>23</td>\n",
       "      <td>0.584543</td>\n",
       "      <td>0.593082</td>\n",
       "      <td>0.681166</td>\n",
       "      <td>0.935721</td>\n",
       "      <td>clear</td>\n",
       "      <td>Ghoul</td>\n",
       "    </tr>\n",
       "    <tr>\n",
       "      <th>12</th>\n",
       "      <td>25</td>\n",
       "      <td>0.390712</td>\n",
       "      <td>0.335069</td>\n",
       "      <td>0.556109</td>\n",
       "      <td>0.784217</td>\n",
       "      <td>white</td>\n",
       "      <td>Ghoul</td>\n",
       "    </tr>\n",
       "    <tr>\n",
       "      <th>13</th>\n",
       "      <td>27</td>\n",
       "      <td>0.351559</td>\n",
       "      <td>0.471078</td>\n",
       "      <td>0.484458</td>\n",
       "      <td>0.465328</td>\n",
       "      <td>black</td>\n",
       "      <td>Goblin</td>\n",
       "    </tr>\n",
       "    <tr>\n",
       "      <th>14</th>\n",
       "      <td>28</td>\n",
       "      <td>0.513387</td>\n",
       "      <td>0.301345</td>\n",
       "      <td>0.745676</td>\n",
       "      <td>0.545792</td>\n",
       "      <td>clear</td>\n",
       "      <td>Goblin</td>\n",
       "    </tr>\n",
       "    <tr>\n",
       "      <th>15</th>\n",
       "      <td>29</td>\n",
       "      <td>0.500197</td>\n",
       "      <td>0.438418</td>\n",
       "      <td>0.532530</td>\n",
       "      <td>0.665522</td>\n",
       "      <td>clear</td>\n",
       "      <td>Ghoul</td>\n",
       "    </tr>\n",
       "    <tr>\n",
       "      <th>16</th>\n",
       "      <td>30</td>\n",
       "      <td>0.250770</td>\n",
       "      <td>0.246258</td>\n",
       "      <td>0.554654</td>\n",
       "      <td>0.250036</td>\n",
       "      <td>black</td>\n",
       "      <td>Ghost</td>\n",
       "    </tr>\n",
       "    <tr>\n",
       "      <th>17</th>\n",
       "      <td>31</td>\n",
       "      <td>0.585559</td>\n",
       "      <td>0.585939</td>\n",
       "      <td>1.000000</td>\n",
       "      <td>0.708692</td>\n",
       "      <td>black</td>\n",
       "      <td>Ghoul</td>\n",
       "    </tr>\n",
       "    <tr>\n",
       "      <th>18</th>\n",
       "      <td>32</td>\n",
       "      <td>0.605836</td>\n",
       "      <td>0.587943</td>\n",
       "      <td>0.529361</td>\n",
       "      <td>0.526718</td>\n",
       "      <td>blue</td>\n",
       "      <td>Ghoul</td>\n",
       "    </tr>\n",
       "    <tr>\n",
       "      <th>19</th>\n",
       "      <td>34</td>\n",
       "      <td>0.524080</td>\n",
       "      <td>0.750988</td>\n",
       "      <td>0.524637</td>\n",
       "      <td>0.443358</td>\n",
       "      <td>green</td>\n",
       "      <td>Ghost</td>\n",
       "    </tr>\n",
       "  </tbody>\n",
       "</table>\n",
       "</div>"
      ]
     },
     "execution_count": 8,
     "metadata": {},
     "output_type": "execute_result"
    }
   ],
   "execution_count": 8
  },
  {
   "cell_type": "code",
   "source": [
    "df_train.columns"
   ],
   "metadata": {
    "colab": {
     "base_uri": "https://localhost:8080/"
    },
    "id": "Q8E4Z5TQhEob",
    "executionInfo": {
     "status": "ok",
     "timestamp": 1719174399500,
     "user_tz": 180,
     "elapsed": 6,
     "user": {
      "displayName": "Melotti",
      "userId": "17660559320925208263"
     }
    },
    "outputId": "52bf2abe-50d8-47e6-d4bf-7fc490c52275",
    "ExecuteTime": {
     "end_time": "2024-07-01T15:45:53.061103Z",
     "start_time": "2024-07-01T15:45:53.055038Z"
    }
   },
   "outputs": [
    {
     "data": {
      "text/plain": [
       "Index(['id', 'bone_length', 'rotting_flesh', 'hair_length', 'has_soul',\n",
       "       'color', 'type'],\n",
       "      dtype='object')"
      ]
     },
     "execution_count": 9,
     "metadata": {},
     "output_type": "execute_result"
    }
   ],
   "execution_count": 9
  },
  {
   "cell_type": "code",
   "source": [
    "df_test.columns"
   ],
   "metadata": {
    "colab": {
     "base_uri": "https://localhost:8080/"
    },
    "id": "mLTdPFv4hHk4",
    "executionInfo": {
     "status": "ok",
     "timestamp": 1719174399500,
     "user_tz": 180,
     "elapsed": 5,
     "user": {
      "displayName": "Melotti",
      "userId": "17660559320925208263"
     }
    },
    "outputId": "0a1e8cfa-14ba-4bc3-eef0-5f89195580e7",
    "ExecuteTime": {
     "end_time": "2024-07-01T15:45:53.508325Z",
     "start_time": "2024-07-01T15:45:53.502467Z"
    }
   },
   "outputs": [
    {
     "data": {
      "text/plain": [
       "Index(['id', 'bone_length', 'rotting_flesh', 'hair_length', 'has_soul',\n",
       "       'color'],\n",
       "      dtype='object')"
      ]
     },
     "execution_count": 10,
     "metadata": {},
     "output_type": "execute_result"
    }
   ],
   "execution_count": 10
  },
  {
   "cell_type": "code",
   "source": [
    "for column in df_train.columns:\n",
    "  if column not in df_test.columns:\n",
    "    print(\"Coluna do treino não está na tabela de teste: \", column)\n",
    "\n",
    "for column in df_test.columns:\n",
    "  if column not in df_train.columns:\n",
    "    print(\"Coluna do teste não está na tabela de treino: \", column)"
   ],
   "metadata": {
    "colab": {
     "base_uri": "https://localhost:8080/"
    },
    "id": "g_fO2ZAIhLD-",
    "executionInfo": {
     "status": "ok",
     "timestamp": 1719174399500,
     "user_tz": 180,
     "elapsed": 4,
     "user": {
      "displayName": "Melotti",
      "userId": "17660559320925208263"
     }
    },
    "outputId": "1523174e-a004-4770-8f7c-31b911863e70",
    "ExecuteTime": {
     "end_time": "2024-07-01T15:45:53.746237Z",
     "start_time": "2024-07-01T15:45:53.741069Z"
    }
   },
   "outputs": [
    {
     "name": "stdout",
     "output_type": "stream",
     "text": [
      "Coluna do treino não está na tabela de teste:  type\n"
     ]
    }
   ],
   "execution_count": 11
  },
  {
   "cell_type": "code",
   "source": [
    "# Bone Length\n",
    "\n",
    "fig, (ax1, ax2) = plt.subplots(1, 2, figsize=(10, 5))\n",
    "\n",
    "\n",
    "ax1.hist(df_train['bone_length'])\n",
    "ax1.set_title('Df Train - Bone Length')\n",
    "ax1.set_xlabel('Valor')\n",
    "ax1.set_ylabel('Frequência')\n",
    "\n",
    "\n",
    "ax2.hist(df_test['bone_length'])\n",
    "ax2.set_title('Df test - Bone Length')\n",
    "ax2.set_xlabel('Valor')\n",
    "ax2.set_ylabel('Frequência')\n",
    "\n",
    "\n",
    "plt.tight_layout()\n",
    "plt.show()"
   ],
   "metadata": {
    "colab": {
     "base_uri": "https://localhost:8080/",
     "height": 507
    },
    "id": "j4QRU_L3Z1bD",
    "executionInfo": {
     "status": "ok",
     "timestamp": 1719174401801,
     "user_tz": 180,
     "elapsed": 2304,
     "user": {
      "displayName": "Melotti",
      "userId": "17660559320925208263"
     }
    },
    "outputId": "ded1d8b4-5a47-4ba9-9f11-32a2edd5a1ab",
    "ExecuteTime": {
     "end_time": "2024-07-01T15:45:54.250807Z",
     "start_time": "2024-07-01T15:45:53.923481Z"
    }
   },
   "outputs": [
    {
     "data": {
      "text/plain": [
       "<Figure size 1000x500 with 2 Axes>"
      ],
      "image/png": "[encoded data removed]"
     },
     "metadata": {},
     "output_type": "display_data"
    }
   ],
   "execution_count": 12
  },
  {
   "source": [
    "# Rotting Flesh\n",
    "\n",
    "fig, (ax1, ax2) = plt.subplots(1, 2, figsize=(10, 5))\n",
    "\n",
    "\n",
    "ax1.hist(df_train['rotting_flesh'])\n",
    "ax1.set_title('Df Train - Rotting Flesh')\n",
    "ax1.set_xlabel('Valor')\n",
    "ax1.set_ylabel('Frequência')\n",
    "\n",
    "\n",
    "ax2.hist(df_test['rotting_flesh'])\n",
    "ax2.set_title('Df test - Rotting Flesh')\n",
    "ax2.set_xlabel('Valor')\n",
    "ax2.set_ylabel('Frequência')\n",
    "\n",
    "\n",
    "plt.tight_layout()\n",
    "plt.show()"
   ],
   "cell_type": "code",
   "metadata": {
    "colab": {
     "base_uri": "https://localhost:8080/",
     "height": 507
    },
    "id": "yz-SG0PhZ6Ju",
    "executionInfo": {
     "status": "ok",
     "timestamp": 1719174403472,
     "user_tz": 180,
     "elapsed": 1673,
     "user": {
      "displayName": "Melotti",
      "userId": "17660559320925208263"
     }
    },
    "outputId": "1ee09928-e7be-42aa-806c-c01ffdf5aff5",
    "ExecuteTime": {
     "end_time": "2024-07-01T15:45:54.504428Z",
     "start_time": "2024-07-01T15:45:54.253068Z"
    }
   },
   "outputs": [
    {
     "data": {
      "text/plain": [
       "<Figure size 1000x500 with 2 Axes>"
      ],
      "image/png": "[encoded data removed]"
     },
     "metadata": {},
     "output_type": "display_data"
    }
   ],
   "execution_count": 13
  },
  {
   "cell_type": "code",
   "source": [
    "# Bone Length\n",
    "\n",
    "fig, (ax1, ax2) = plt.subplots(1, 2, figsize=(10, 5))\n",
    "\n",
    "\n",
    "ax1.hist(df_train['bone_length'])\n",
    "ax1.set_title('Df Train - Bone Length')\n",
    "ax1.set_xlabel('Valor')\n",
    "ax1.set_ylabel('Frequência')\n",
    "\n",
    "\n",
    "ax2.hist(df_test['bone_length'])\n",
    "ax2.set_title('Df test - Bone Length')\n",
    "ax2.set_xlabel('Valor')\n",
    "ax2.set_ylabel('Frequência')\n",
    "\n",
    "\n",
    "plt.tight_layout()\n",
    "plt.show()"
   ],
   "metadata": {
    "colab": {
     "base_uri": "https://localhost:8080/",
     "height": 507
    },
    "id": "Cbisp4I-aGPf",
    "executionInfo": {
     "status": "ok",
     "timestamp": 1719174404861,
     "user_tz": 180,
     "elapsed": 1391,
     "user": {
      "displayName": "Melotti",
      "userId": "17660559320925208263"
     }
    },
    "outputId": "8cf57b2e-4f26-4d36-8e7e-20601feebc2e",
    "ExecuteTime": {
     "end_time": "2024-07-01T15:45:54.772378Z",
     "start_time": "2024-07-01T15:45:54.506715Z"
    }
   },
   "outputs": [
    {
     "data": {
      "text/plain": [
       "<Figure size 1000x500 with 2 Axes>"
      ],
      "image/png": "[encoded data removed]"
     },
     "metadata": {},
     "output_type": "display_data"
    }
   ],
   "execution_count": 14
  },
  {
   "source": [
    "# Has Soul\n",
    "\n",
    "fig, (ax1, ax2) = plt.subplots(1, 2, figsize=(10, 5))\n",
    "\n",
    "\n",
    "ax1.hist(df_train['has_soul'])\n",
    "ax1.set_title('Df Train - Has Soul')\n",
    "ax1.set_xlabel('Valor')\n",
    "ax1.set_ylabel('Frequência')\n",
    "\n",
    "\n",
    "ax2.hist(df_test['has_soul'])\n",
    "ax2.set_title('Df test - Has Soul')\n",
    "ax2.set_xlabel('Valor')\n",
    "ax2.set_ylabel('Frequência')\n",
    "\n",
    "\n",
    "plt.tight_layout()\n",
    "plt.show()"
   ],
   "cell_type": "code",
   "metadata": {
    "colab": {
     "base_uri": "https://localhost:8080/",
     "height": 507
    },
    "id": "vceMQuOyZj-V",
    "executionInfo": {
     "status": "ok",
     "timestamp": 1719174405832,
     "user_tz": 180,
     "elapsed": 973,
     "user": {
      "displayName": "Melotti",
      "userId": "17660559320925208263"
     }
    },
    "outputId": "a154bcc4-8512-4142-ea74-35dba004e5ec",
    "ExecuteTime": {
     "end_time": "2024-07-01T15:45:55.133953Z",
     "start_time": "2024-07-01T15:45:54.775345Z"
    }
   },
   "outputs": [
    {
     "data": {
      "text/plain": [
       "<Figure size 1000x500 with 2 Axes>"
      ],
      "image/png": "[encoded data removed]"
     },
     "metadata": {},
     "output_type": "display_data"
    }
   ],
   "execution_count": 15
  },
  {
   "cell_type": "code",
   "source": [
    "df_train.describe()"
   ],
   "metadata": {
    "colab": {
     "base_uri": "https://localhost:8080/",
     "height": 300
    },
    "id": "VfyjIhL6UQlY",
    "executionInfo": {
     "status": "ok",
     "timestamp": 1719174405832,
     "user_tz": 180,
     "elapsed": 7,
     "user": {
      "displayName": "Melotti",
      "userId": "17660559320925208263"
     }
    },
    "outputId": "597c5674-e6ce-42cb-abae-7a59f45648e2",
    "ExecuteTime": {
     "end_time": "2024-07-01T15:45:55.156392Z",
     "start_time": "2024-07-01T15:45:55.137082Z"
    }
   },
   "outputs": [
    {
     "data": {
      "text/plain": [
       "               id  bone_length  rotting_flesh  hair_length    has_soul\n",
       "count  371.000000   371.000000     371.000000   371.000000  371.000000\n",
       "mean   443.676550     0.434160       0.506848     0.529114    0.471392\n",
       "std    263.222489     0.132833       0.146358     0.169902    0.176129\n",
       "min      0.000000     0.061032       0.095687     0.134600    0.009402\n",
       "25%    205.500000     0.340006       0.414812     0.407428    0.348002\n",
       "50%    458.000000     0.434891       0.501552     0.538642    0.466372\n",
       "75%    678.500000     0.517223       0.603977     0.647244    0.600610\n",
       "max    897.000000     0.817001       0.932466     1.000000    0.935721"
      ],
      "text/html": [
       "<div>\n",
       "<style scoped>\n",
       "    .dataframe tbody tr th:only-of-type {\n",
       "        vertical-align: middle;\n",
       "    }\n",
       "\n",
       "    .dataframe tbody tr th {\n",
       "        vertical-align: top;\n",
       "    }\n",
       "\n",
       "    .dataframe thead th {\n",
       "        text-align: right;\n",
       "    }\n",
       "</style>\n",
       "<table border=\"1\" class=\"dataframe\">\n",
       "  <thead>\n",
       "    <tr style=\"text-align: right;\">\n",
       "      <th></th>\n",
       "      <th>id</th>\n",
       "      <th>bone_length</th>\n",
       "      <th>rotting_flesh</th>\n",
       "      <th>hair_length</th>\n",
       "      <th>has_soul</th>\n",
       "    </tr>\n",
       "  </thead>\n",
       "  <tbody>\n",
       "    <tr>\n",
       "      <th>count</th>\n",
       "      <td>371.000000</td>\n",
       "      <td>371.000000</td>\n",
       "      <td>371.000000</td>\n",
       "      <td>371.000000</td>\n",
       "      <td>371.000000</td>\n",
       "    </tr>\n",
       "    <tr>\n",
       "      <th>mean</th>\n",
       "      <td>443.676550</td>\n",
       "      <td>0.434160</td>\n",
       "      <td>0.506848</td>\n",
       "      <td>0.529114</td>\n",
       "      <td>0.471392</td>\n",
       "    </tr>\n",
       "    <tr>\n",
       "      <th>std</th>\n",
       "      <td>263.222489</td>\n",
       "      <td>0.132833</td>\n",
       "      <td>0.146358</td>\n",
       "      <td>0.169902</td>\n",
       "      <td>0.176129</td>\n",
       "    </tr>\n",
       "    <tr>\n",
       "      <th>min</th>\n",
       "      <td>0.000000</td>\n",
       "      <td>0.061032</td>\n",
       "      <td>0.095687</td>\n",
       "      <td>0.134600</td>\n",
       "      <td>0.009402</td>\n",
       "    </tr>\n",
       "    <tr>\n",
       "      <th>25%</th>\n",
       "      <td>205.500000</td>\n",
       "      <td>0.340006</td>\n",
       "      <td>0.414812</td>\n",
       "      <td>0.407428</td>\n",
       "      <td>0.348002</td>\n",
       "    </tr>\n",
       "    <tr>\n",
       "      <th>50%</th>\n",
       "      <td>458.000000</td>\n",
       "      <td>0.434891</td>\n",
       "      <td>0.501552</td>\n",
       "      <td>0.538642</td>\n",
       "      <td>0.466372</td>\n",
       "    </tr>\n",
       "    <tr>\n",
       "      <th>75%</th>\n",
       "      <td>678.500000</td>\n",
       "      <td>0.517223</td>\n",
       "      <td>0.603977</td>\n",
       "      <td>0.647244</td>\n",
       "      <td>0.600610</td>\n",
       "    </tr>\n",
       "    <tr>\n",
       "      <th>max</th>\n",
       "      <td>897.000000</td>\n",
       "      <td>0.817001</td>\n",
       "      <td>0.932466</td>\n",
       "      <td>1.000000</td>\n",
       "      <td>0.935721</td>\n",
       "    </tr>\n",
       "  </tbody>\n",
       "</table>\n",
       "</div>"
      ]
     },
     "execution_count": 16,
     "metadata": {},
     "output_type": "execute_result"
    }
   ],
   "execution_count": 16
  },
  {
   "cell_type": "code",
   "source": [
    "df_test.describe()"
   ],
   "metadata": {
    "colab": {
     "base_uri": "https://localhost:8080/",
     "height": 300
    },
    "id": "OhMXA4vsdljp",
    "executionInfo": {
     "status": "ok",
     "timestamp": 1719174405833,
     "user_tz": 180,
     "elapsed": 7,
     "user": {
      "displayName": "Melotti",
      "userId": "17660559320925208263"
     }
    },
    "outputId": "96822159-b261-4f96-ce62-bd042f82ce4d",
    "ExecuteTime": {
     "end_time": "2024-07-01T15:45:55.357226Z",
     "start_time": "2024-07-01T15:45:55.340558Z"
    }
   },
   "outputs": [
    {
     "data": {
      "text/plain": [
       "               id  bone_length  rotting_flesh  hair_length    has_soul\n",
       "count  529.000000   529.000000     529.000000   529.000000  529.000000\n",
       "mean   453.584121     0.425474       0.503637     0.517288    0.464096\n",
       "std    257.804948     0.136079       0.158552     0.171727    0.179659\n",
       "min      3.000000     0.000000       0.000000     0.000000    0.000000\n",
       "25%    239.000000     0.329383       0.393987     0.388189    0.338964\n",
       "50%    445.000000     0.421989       0.510065     0.520220    0.461294\n",
       "75%    670.000000     0.519024       0.605957     0.644824    0.584448\n",
       "max    899.000000     1.000000       1.000000     0.999841    1.000000"
      ],
      "text/html": [
       "<div>\n",
       "<style scoped>\n",
       "    .dataframe tbody tr th:only-of-type {\n",
       "        vertical-align: middle;\n",
       "    }\n",
       "\n",
       "    .dataframe tbody tr th {\n",
       "        vertical-align: top;\n",
       "    }\n",
       "\n",
       "    .dataframe thead th {\n",
       "        text-align: right;\n",
       "    }\n",
       "</style>\n",
       "<table border=\"1\" class=\"dataframe\">\n",
       "  <thead>\n",
       "    <tr style=\"text-align: right;\">\n",
       "      <th></th>\n",
       "      <th>id</th>\n",
       "      <th>bone_length</th>\n",
       "      <th>rotting_flesh</th>\n",
       "      <th>hair_length</th>\n",
       "      <th>has_soul</th>\n",
       "    </tr>\n",
       "  </thead>\n",
       "  <tbody>\n",
       "    <tr>\n",
       "      <th>count</th>\n",
       "      <td>529.000000</td>\n",
       "      <td>529.000000</td>\n",
       "      <td>529.000000</td>\n",
       "      <td>529.000000</td>\n",
       "      <td>529.000000</td>\n",
       "    </tr>\n",
       "    <tr>\n",
       "      <th>mean</th>\n",
       "      <td>453.584121</td>\n",
       "      <td>0.425474</td>\n",
       "      <td>0.503637</td>\n",
       "      <td>0.517288</td>\n",
       "      <td>0.464096</td>\n",
       "    </tr>\n",
       "    <tr>\n",
       "      <th>std</th>\n",
       "      <td>257.804948</td>\n",
       "      <td>0.136079</td>\n",
       "      <td>0.158552</td>\n",
       "      <td>0.171727</td>\n",
       "      <td>0.179659</td>\n",
       "    </tr>\n",
       "    <tr>\n",
       "      <th>min</th>\n",
       "      <td>3.000000</td>\n",
       "      <td>0.000000</td>\n",
       "      <td>0.000000</td>\n",
       "      <td>0.000000</td>\n",
       "      <td>0.000000</td>\n",
       "    </tr>\n",
       "    <tr>\n",
       "      <th>25%</th>\n",
       "      <td>239.000000</td>\n",
       "      <td>0.329383</td>\n",
       "      <td>0.393987</td>\n",
       "      <td>0.388189</td>\n",
       "      <td>0.338964</td>\n",
       "    </tr>\n",
       "    <tr>\n",
       "      <th>50%</th>\n",
       "      <td>445.000000</td>\n",
       "      <td>0.421989</td>\n",
       "      <td>0.510065</td>\n",
       "      <td>0.520220</td>\n",
       "      <td>0.461294</td>\n",
       "    </tr>\n",
       "    <tr>\n",
       "      <th>75%</th>\n",
       "      <td>670.000000</td>\n",
       "      <td>0.519024</td>\n",
       "      <td>0.605957</td>\n",
       "      <td>0.644824</td>\n",
       "      <td>0.584448</td>\n",
       "    </tr>\n",
       "    <tr>\n",
       "      <th>max</th>\n",
       "      <td>899.000000</td>\n",
       "      <td>1.000000</td>\n",
       "      <td>1.000000</td>\n",
       "      <td>0.999841</td>\n",
       "      <td>1.000000</td>\n",
       "    </tr>\n",
       "  </tbody>\n",
       "</table>\n",
       "</div>"
      ]
     },
     "execution_count": 17,
     "metadata": {},
     "output_type": "execute_result"
    }
   ],
   "execution_count": 17
  },
  {
   "cell_type": "code",
   "source": [
    "len(df_test), len(df_train)"
   ],
   "metadata": {
    "colab": {
     "base_uri": "https://localhost:8080/"
    },
    "id": "wYEUOiFpdpV6",
    "executionInfo": {
     "status": "ok",
     "timestamp": 1719174405833,
     "user_tz": 180,
     "elapsed": 6,
     "user": {
      "displayName": "Melotti",
      "userId": "17660559320925208263"
     }
    },
    "outputId": "55641150-319e-4995-ada1-27519ea40833",
    "ExecuteTime": {
     "end_time": "2024-07-01T15:45:55.624965Z",
     "start_time": "2024-07-01T15:45:55.619518Z"
    }
   },
   "outputs": [
    {
     "data": {
      "text/plain": [
       "(529, 371)"
      ]
     },
     "execution_count": 18,
     "metadata": {},
     "output_type": "execute_result"
    }
   ],
   "execution_count": 18
  },
  {
   "cell_type": "code",
   "source": [
    "df_test['color']"
   ],
   "metadata": {
    "colab": {
     "base_uri": "https://localhost:8080/"
    },
    "id": "dNl2U0jidziI",
    "executionInfo": {
     "status": "ok",
     "timestamp": 1719174405833,
     "user_tz": 180,
     "elapsed": 5,
     "user": {
      "displayName": "Melotti",
      "userId": "17660559320925208263"
     }
    },
    "outputId": "b5903d2a-37b7-4467-f181-dd7a5643bb01",
    "ExecuteTime": {
     "end_time": "2024-07-01T15:45:55.829922Z",
     "start_time": "2024-07-01T15:45:55.821328Z"
    }
   },
   "outputs": [
    {
     "data": {
      "text/plain": [
       "0      black\n",
       "1      white\n",
       "2      black\n",
       "3      white\n",
       "4      black\n",
       "       ...  \n",
       "524     blue\n",
       "525    clear\n",
       "526    white\n",
       "527    clear\n",
       "528    white\n",
       "Name: color, Length: 529, dtype: object"
      ]
     },
     "execution_count": 19,
     "metadata": {},
     "output_type": "execute_result"
    }
   ],
   "execution_count": 19
  },
  {
   "cell_type": "markdown",
   "source": [
    "## Definindo as labels"
   ],
   "metadata": {
    "id": "dQSwDlj9eFkc"
   }
  },
  {
   "cell_type": "code",
   "source": [
    "aux = df_train['type'].drop_duplicates().to_list()\n",
    "labels_ant = aux\n",
    "\n",
    "labels = {}\n",
    "for index, label in enumerate(aux):\n",
    "  labels[label] = len(aux)-1-index\n",
    "labels"
   ],
   "metadata": {
    "colab": {
     "base_uri": "https://localhost:8080/"
    },
    "id": "JWXxpR_OeBwp",
    "executionInfo": {
     "status": "ok",
     "timestamp": 1719174405833,
     "user_tz": 180,
     "elapsed": 4,
     "user": {
      "displayName": "Melotti",
      "userId": "17660559320925208263"
     }
    },
    "outputId": "7f5fed51-d5e5-4960-9cd2-7f833abe1447",
    "ExecuteTime": {
     "end_time": "2024-07-01T15:45:56.280708Z",
     "start_time": "2024-07-01T15:45:56.274982Z"
    }
   },
   "outputs": [
    {
     "data": {
      "text/plain": [
       "{'Ghoul': 2, 'Goblin': 1, 'Ghost': 0}"
      ]
     },
     "execution_count": 20,
     "metadata": {},
     "output_type": "execute_result"
    }
   ],
   "execution_count": 20
  },
  {
   "cell_type": "code",
   "source": [
    "df_train_aux[\"label\"] = df_train_aux[\"type\"].apply(lambda x: labels[x])\n",
    "df_train_aux"
   ],
   "metadata": {
    "colab": {
     "base_uri": "https://localhost:8080/",
     "height": 423
    },
    "id": "vsaA4-PCgmtY",
    "executionInfo": {
     "status": "ok",
     "timestamp": 1719174406406,
     "user_tz": 180,
     "elapsed": 577,
     "user": {
      "displayName": "Melotti",
      "userId": "17660559320925208263"
     }
    },
    "outputId": "d4dec358-743a-4f0e-c9eb-d213604e1ace",
    "ExecuteTime": {
     "end_time": "2024-07-01T15:45:56.554826Z",
     "start_time": "2024-07-01T15:45:56.538274Z"
    }
   },
   "outputs": [
    {
     "data": {
      "text/plain": [
       "      id  bone_length  rotting_flesh  hair_length  has_soul  color    type  \\\n",
       "0      0     0.354512       0.350839     0.465761  0.781142  clear   Ghoul   \n",
       "1      1     0.575560       0.425868     0.531401  0.439899  green  Goblin   \n",
       "2      2     0.467875       0.354330     0.811616  0.791225  black   Ghoul   \n",
       "3      4     0.776652       0.508723     0.636766  0.884464  black   Ghoul   \n",
       "4      5     0.566117       0.875862     0.418594  0.636438  green   Ghost   \n",
       "..   ...          ...            ...          ...       ...    ...     ...   \n",
       "366  886     0.458132       0.391760     0.660590  0.635689   blue  Goblin   \n",
       "367  889     0.331936       0.564836     0.539216  0.551471  green   Ghost   \n",
       "368  890     0.481640       0.501147     0.496446  0.544003  clear   Ghoul   \n",
       "369  896     0.294943       0.771286     0.583503  0.300618  clear   Ghost   \n",
       "370  897     0.670200       0.768469     0.737274  0.608384  white   Ghoul   \n",
       "\n",
       "     label  \n",
       "0        2  \n",
       "1        1  \n",
       "2        2  \n",
       "3        2  \n",
       "4        0  \n",
       "..     ...  \n",
       "366      1  \n",
       "367      0  \n",
       "368      2  \n",
       "369      0  \n",
       "370      2  \n",
       "\n",
       "[371 rows x 8 columns]"
      ],
      "text/html": [
       "<div>\n",
       "<style scoped>\n",
       "    .dataframe tbody tr th:only-of-type {\n",
       "        vertical-align: middle;\n",
       "    }\n",
       "\n",
       "    .dataframe tbody tr th {\n",
       "        vertical-align: top;\n",
       "    }\n",
       "\n",
       "    .dataframe thead th {\n",
       "        text-align: right;\n",
       "    }\n",
       "</style>\n",
       "<table border=\"1\" class=\"dataframe\">\n",
       "  <thead>\n",
       "    <tr style=\"text-align: right;\">\n",
       "      <th></th>\n",
       "      <th>id</th>\n",
       "      <th>bone_length</th>\n",
       "      <th>rotting_flesh</th>\n",
       "      <th>hair_length</th>\n",
       "      <th>has_soul</th>\n",
       "      <th>color</th>\n",
       "      <th>type</th>\n",
       "      <th>label</th>\n",
       "    </tr>\n",
       "  </thead>\n",
       "  <tbody>\n",
       "    <tr>\n",
       "      <th>0</th>\n",
       "      <td>0</td>\n",
       "      <td>0.354512</td>\n",
       "      <td>0.350839</td>\n",
       "      <td>0.465761</td>\n",
       "      <td>0.781142</td>\n",
       "      <td>clear</td>\n",
       "      <td>Ghoul</td>\n",
       "      <td>2</td>\n",
       "    </tr>\n",
       "    <tr>\n",
       "      <th>1</th>\n",
       "      <td>1</td>\n",
       "      <td>0.575560</td>\n",
       "      <td>0.425868</td>\n",
       "      <td>0.531401</td>\n",
       "      <td>0.439899</td>\n",
       "      <td>green</td>\n",
       "      <td>Goblin</td>\n",
       "      <td>1</td>\n",
       "    </tr>\n",
       "    <tr>\n",
       "      <th>2</th>\n",
       "      <td>2</td>\n",
       "      <td>0.467875</td>\n",
       "      <td>0.354330</td>\n",
       "      <td>0.811616</td>\n",
       "      <td>0.791225</td>\n",
       "      <td>black</td>\n",
       "      <td>Ghoul</td>\n",
       "      <td>2</td>\n",
       "    </tr>\n",
       "    <tr>\n",
       "      <th>3</th>\n",
       "      <td>4</td>\n",
       "      <td>0.776652</td>\n",
       "      <td>0.508723</td>\n",
       "      <td>0.636766</td>\n",
       "      <td>0.884464</td>\n",
       "      <td>black</td>\n",
       "      <td>Ghoul</td>\n",
       "      <td>2</td>\n",
       "    </tr>\n",
       "    <tr>\n",
       "      <th>4</th>\n",
       "      <td>5</td>\n",
       "      <td>0.566117</td>\n",
       "      <td>0.875862</td>\n",
       "      <td>0.418594</td>\n",
       "      <td>0.636438</td>\n",
       "      <td>green</td>\n",
       "      <td>Ghost</td>\n",
       "      <td>0</td>\n",
       "    </tr>\n",
       "    <tr>\n",
       "      <th>...</th>\n",
       "      <td>...</td>\n",
       "      <td>...</td>\n",
       "      <td>...</td>\n",
       "      <td>...</td>\n",
       "      <td>...</td>\n",
       "      <td>...</td>\n",
       "      <td>...</td>\n",
       "      <td>...</td>\n",
       "    </tr>\n",
       "    <tr>\n",
       "      <th>366</th>\n",
       "      <td>886</td>\n",
       "      <td>0.458132</td>\n",
       "      <td>0.391760</td>\n",
       "      <td>0.660590</td>\n",
       "      <td>0.635689</td>\n",
       "      <td>blue</td>\n",
       "      <td>Goblin</td>\n",
       "      <td>1</td>\n",
       "    </tr>\n",
       "    <tr>\n",
       "      <th>367</th>\n",
       "      <td>889</td>\n",
       "      <td>0.331936</td>\n",
       "      <td>0.564836</td>\n",
       "      <td>0.539216</td>\n",
       "      <td>0.551471</td>\n",
       "      <td>green</td>\n",
       "      <td>Ghost</td>\n",
       "      <td>0</td>\n",
       "    </tr>\n",
       "    <tr>\n",
       "      <th>368</th>\n",
       "      <td>890</td>\n",
       "      <td>0.481640</td>\n",
       "      <td>0.501147</td>\n",
       "      <td>0.496446</td>\n",
       "      <td>0.544003</td>\n",
       "      <td>clear</td>\n",
       "      <td>Ghoul</td>\n",
       "      <td>2</td>\n",
       "    </tr>\n",
       "    <tr>\n",
       "      <th>369</th>\n",
       "      <td>896</td>\n",
       "      <td>0.294943</td>\n",
       "      <td>0.771286</td>\n",
       "      <td>0.583503</td>\n",
       "      <td>0.300618</td>\n",
       "      <td>clear</td>\n",
       "      <td>Ghost</td>\n",
       "      <td>0</td>\n",
       "    </tr>\n",
       "    <tr>\n",
       "      <th>370</th>\n",
       "      <td>897</td>\n",
       "      <td>0.670200</td>\n",
       "      <td>0.768469</td>\n",
       "      <td>0.737274</td>\n",
       "      <td>0.608384</td>\n",
       "      <td>white</td>\n",
       "      <td>Ghoul</td>\n",
       "      <td>2</td>\n",
       "    </tr>\n",
       "  </tbody>\n",
       "</table>\n",
       "<p>371 rows × 8 columns</p>\n",
       "</div>"
      ]
     },
     "execution_count": 21,
     "metadata": {},
     "output_type": "execute_result"
    }
   ],
   "execution_count": 21
  },
  {
   "cell_type": "markdown",
   "source": [
    "## Preparando as features"
   ],
   "metadata": {
    "id": "QNHw77U6hj_q"
   }
  },
  {
   "cell_type": "code",
   "source": [
    "label_encoder = LabelEncoder()\n",
    "df_train_aux['num_color'] = label_encoder.fit_transform(df_train_aux['color'])\n",
    "df_train_aux"
   ],
   "metadata": {
    "colab": {
     "base_uri": "https://localhost:8080/",
     "height": 423
    },
    "id": "DvYugX0lhr3c",
    "executionInfo": {
     "status": "ok",
     "timestamp": 1719174406407,
     "user_tz": 180,
     "elapsed": 7,
     "user": {
      "displayName": "Melotti",
      "userId": "17660559320925208263"
     }
    },
    "outputId": "0007b2aa-14af-4a95-ff14-11ae6ddc7de7",
    "ExecuteTime": {
     "end_time": "2024-07-01T15:45:56.931095Z",
     "start_time": "2024-07-01T15:45:56.913364Z"
    }
   },
   "outputs": [
    {
     "data": {
      "text/plain": [
       "      id  bone_length  rotting_flesh  hair_length  has_soul  color    type  \\\n",
       "0      0     0.354512       0.350839     0.465761  0.781142  clear   Ghoul   \n",
       "1      1     0.575560       0.425868     0.531401  0.439899  green  Goblin   \n",
       "2      2     0.467875       0.354330     0.811616  0.791225  black   Ghoul   \n",
       "3      4     0.776652       0.508723     0.636766  0.884464  black   Ghoul   \n",
       "4      5     0.566117       0.875862     0.418594  0.636438  green   Ghost   \n",
       "..   ...          ...            ...          ...       ...    ...     ...   \n",
       "366  886     0.458132       0.391760     0.660590  0.635689   blue  Goblin   \n",
       "367  889     0.331936       0.564836     0.539216  0.551471  green   Ghost   \n",
       "368  890     0.481640       0.501147     0.496446  0.544003  clear   Ghoul   \n",
       "369  896     0.294943       0.771286     0.583503  0.300618  clear   Ghost   \n",
       "370  897     0.670200       0.768469     0.737274  0.608384  white   Ghoul   \n",
       "\n",
       "     label  num_color  \n",
       "0        2          3  \n",
       "1        1          4  \n",
       "2        2          0  \n",
       "3        2          0  \n",
       "4        0          4  \n",
       "..     ...        ...  \n",
       "366      1          2  \n",
       "367      0          4  \n",
       "368      2          3  \n",
       "369      0          3  \n",
       "370      2          5  \n",
       "\n",
       "[371 rows x 9 columns]"
      ],
      "text/html": [
       "<div>\n",
       "<style scoped>\n",
       "    .dataframe tbody tr th:only-of-type {\n",
       "        vertical-align: middle;\n",
       "    }\n",
       "\n",
       "    .dataframe tbody tr th {\n",
       "        vertical-align: top;\n",
       "    }\n",
       "\n",
       "    .dataframe thead th {\n",
       "        text-align: right;\n",
       "    }\n",
       "</style>\n",
       "<table border=\"1\" class=\"dataframe\">\n",
       "  <thead>\n",
       "    <tr style=\"text-align: right;\">\n",
       "      <th></th>\n",
       "      <th>id</th>\n",
       "      <th>bone_length</th>\n",
       "      <th>rotting_flesh</th>\n",
       "      <th>hair_length</th>\n",
       "      <th>has_soul</th>\n",
       "      <th>color</th>\n",
       "      <th>type</th>\n",
       "      <th>label</th>\n",
       "      <th>num_color</th>\n",
       "    </tr>\n",
       "  </thead>\n",
       "  <tbody>\n",
       "    <tr>\n",
       "      <th>0</th>\n",
       "      <td>0</td>\n",
       "      <td>0.354512</td>\n",
       "      <td>0.350839</td>\n",
       "      <td>0.465761</td>\n",
       "      <td>0.781142</td>\n",
       "      <td>clear</td>\n",
       "      <td>Ghoul</td>\n",
       "      <td>2</td>\n",
       "      <td>3</td>\n",
       "    </tr>\n",
       "    <tr>\n",
       "      <th>1</th>\n",
       "      <td>1</td>\n",
       "      <td>0.575560</td>\n",
       "      <td>0.425868</td>\n",
       "      <td>0.531401</td>\n",
       "      <td>0.439899</td>\n",
       "      <td>green</td>\n",
       "      <td>Goblin</td>\n",
       "      <td>1</td>\n",
       "      <td>4</td>\n",
       "    </tr>\n",
       "    <tr>\n",
       "      <th>2</th>\n",
       "      <td>2</td>\n",
       "      <td>0.467875</td>\n",
       "      <td>0.354330</td>\n",
       "      <td>0.811616</td>\n",
       "      <td>0.791225</td>\n",
       "      <td>black</td>\n",
       "      <td>Ghoul</td>\n",
       "      <td>2</td>\n",
       "      <td>0</td>\n",
       "    </tr>\n",
       "    <tr>\n",
       "      <th>3</th>\n",
       "      <td>4</td>\n",
       "      <td>0.776652</td>\n",
       "      <td>0.508723</td>\n",
       "      <td>0.636766</td>\n",
       "      <td>0.884464</td>\n",
       "      <td>black</td>\n",
       "      <td>Ghoul</td>\n",
       "      <td>2</td>\n",
       "      <td>0</td>\n",
       "    </tr>\n",
       "    <tr>\n",
       "      <th>4</th>\n",
       "      <td>5</td>\n",
       "      <td>0.566117</td>\n",
       "      <td>0.875862</td>\n",
       "      <td>0.418594</td>\n",
       "      <td>0.636438</td>\n",
       "      <td>green</td>\n",
       "      <td>Ghost</td>\n",
       "      <td>0</td>\n",
       "      <td>4</td>\n",
       "    </tr>\n",
       "    <tr>\n",
       "      <th>...</th>\n",
       "      <td>...</td>\n",
       "      <td>...</td>\n",
       "      <td>...</td>\n",
       "      <td>...</td>\n",
       "      <td>...</td>\n",
       "      <td>...</td>\n",
       "      <td>...</td>\n",
       "      <td>...</td>\n",
       "      <td>...</td>\n",
       "    </tr>\n",
       "    <tr>\n",
       "      <th>366</th>\n",
       "      <td>886</td>\n",
       "      <td>0.458132</td>\n",
       "      <td>0.391760</td>\n",
       "      <td>0.660590</td>\n",
       "      <td>0.635689</td>\n",
       "      <td>blue</td>\n",
       "      <td>Goblin</td>\n",
       "      <td>1</td>\n",
       "      <td>2</td>\n",
       "    </tr>\n",
       "    <tr>\n",
       "      <th>367</th>\n",
       "      <td>889</td>\n",
       "      <td>0.331936</td>\n",
       "      <td>0.564836</td>\n",
       "      <td>0.539216</td>\n",
       "      <td>0.551471</td>\n",
       "      <td>green</td>\n",
       "      <td>Ghost</td>\n",
       "      <td>0</td>\n",
       "      <td>4</td>\n",
       "    </tr>\n",
       "    <tr>\n",
       "      <th>368</th>\n",
       "      <td>890</td>\n",
       "      <td>0.481640</td>\n",
       "      <td>0.501147</td>\n",
       "      <td>0.496446</td>\n",
       "      <td>0.544003</td>\n",
       "      <td>clear</td>\n",
       "      <td>Ghoul</td>\n",
       "      <td>2</td>\n",
       "      <td>3</td>\n",
       "    </tr>\n",
       "    <tr>\n",
       "      <th>369</th>\n",
       "      <td>896</td>\n",
       "      <td>0.294943</td>\n",
       "      <td>0.771286</td>\n",
       "      <td>0.583503</td>\n",
       "      <td>0.300618</td>\n",
       "      <td>clear</td>\n",
       "      <td>Ghost</td>\n",
       "      <td>0</td>\n",
       "      <td>3</td>\n",
       "    </tr>\n",
       "    <tr>\n",
       "      <th>370</th>\n",
       "      <td>897</td>\n",
       "      <td>0.670200</td>\n",
       "      <td>0.768469</td>\n",
       "      <td>0.737274</td>\n",
       "      <td>0.608384</td>\n",
       "      <td>white</td>\n",
       "      <td>Ghoul</td>\n",
       "      <td>2</td>\n",
       "      <td>5</td>\n",
       "    </tr>\n",
       "  </tbody>\n",
       "</table>\n",
       "<p>371 rows × 9 columns</p>\n",
       "</div>"
      ]
     },
     "execution_count": 22,
     "metadata": {},
     "output_type": "execute_result"
    }
   ],
   "execution_count": 22
  },
  {
   "cell_type": "code",
   "source": [
    "colors_dict = df_train_aux.drop_duplicates(['color', 'num_color']).reset_index()[['color', 'num_color']].to_dict()['color']\n",
    "colors_dict_aux = {}\n",
    "\n",
    "for i in colors_dict:\n",
    "  colors_dict_aux[colors_dict[i]] = i\n",
    "colors_dict_aux"
   ],
   "metadata": {
    "colab": {
     "base_uri": "https://localhost:8080/"
    },
    "id": "LlQMsvqXiCmJ",
    "executionInfo": {
     "status": "ok",
     "timestamp": 1719174406407,
     "user_tz": 180,
     "elapsed": 6,
     "user": {
      "displayName": "Melotti",
      "userId": "17660559320925208263"
     }
    },
    "outputId": "0d1812bf-33c7-4fcc-b7a1-86244193ebcd",
    "ExecuteTime": {
     "end_time": "2024-07-01T15:45:57.192591Z",
     "start_time": "2024-07-01T15:45:57.176292Z"
    }
   },
   "outputs": [
    {
     "data": {
      "text/plain": [
       "{'clear': 0, 'green': 1, 'black': 2, 'white': 3, 'blue': 4, 'blood': 5}"
      ]
     },
     "execution_count": 23,
     "metadata": {},
     "output_type": "execute_result"
    }
   ],
   "execution_count": 23
  },
  {
   "cell_type": "code",
   "source": [
    "df_test_aux[\"num_color\"] = df_test_aux[\"color\"].apply(lambda x: colors_dict_aux[x])\n",
    "df_test_aux"
   ],
   "metadata": {
    "colab": {
     "base_uri": "https://localhost:8080/",
     "height": 423
    },
    "id": "qRZnXEq2i8sR",
    "executionInfo": {
     "status": "ok",
     "timestamp": 1719174406407,
     "user_tz": 180,
     "elapsed": 5,
     "user": {
      "displayName": "Melotti",
      "userId": "17660559320925208263"
     }
    },
    "outputId": "1b250f54-7d6d-48a7-cd1d-ca4db3dbb694",
    "ExecuteTime": {
     "end_time": "2024-07-01T15:45:57.475939Z",
     "start_time": "2024-07-01T15:45:57.461715Z"
    }
   },
   "outputs": [
    {
     "data": {
      "text/plain": [
       "      id  bone_length  rotting_flesh  hair_length  has_soul  color  num_color\n",
       "0      3     0.471774       0.387937     0.706087  0.698537  black          2\n",
       "1      6     0.427332       0.645024     0.565558  0.451462  white          3\n",
       "2      9     0.549602       0.491931     0.660387  0.449809  black          2\n",
       "3     10     0.638095       0.682867     0.471409  0.356924  white          3\n",
       "4     13     0.361762       0.583997     0.377256  0.276364  black          2\n",
       "..   ...          ...            ...          ...       ...    ...        ...\n",
       "524  893     0.377573       0.390158     0.696465  0.355373   blue          4\n",
       "525  894     0.229161       0.601265     0.191282  0.475115  clear          0\n",
       "526  895     0.510497       0.498347     0.708020  0.714154  white          3\n",
       "527  898     0.331472       0.765835     0.338207  0.193431  clear          0\n",
       "528  899     0.256789       0.691802     0.415197  0.348971  white          3\n",
       "\n",
       "[529 rows x 7 columns]"
      ],
      "text/html": [
       "<div>\n",
       "<style scoped>\n",
       "    .dataframe tbody tr th:only-of-type {\n",
       "        vertical-align: middle;\n",
       "    }\n",
       "\n",
       "    .dataframe tbody tr th {\n",
       "        vertical-align: top;\n",
       "    }\n",
       "\n",
       "    .dataframe thead th {\n",
       "        text-align: right;\n",
       "    }\n",
       "</style>\n",
       "<table border=\"1\" class=\"dataframe\">\n",
       "  <thead>\n",
       "    <tr style=\"text-align: right;\">\n",
       "      <th></th>\n",
       "      <th>id</th>\n",
       "      <th>bone_length</th>\n",
       "      <th>rotting_flesh</th>\n",
       "      <th>hair_length</th>\n",
       "      <th>has_soul</th>\n",
       "      <th>color</th>\n",
       "      <th>num_color</th>\n",
       "    </tr>\n",
       "  </thead>\n",
       "  <tbody>\n",
       "    <tr>\n",
       "      <th>0</th>\n",
       "      <td>3</td>\n",
       "      <td>0.471774</td>\n",
       "      <td>0.387937</td>\n",
       "      <td>0.706087</td>\n",
       "      <td>0.698537</td>\n",
       "      <td>black</td>\n",
       "      <td>2</td>\n",
       "    </tr>\n",
       "    <tr>\n",
       "      <th>1</th>\n",
       "      <td>6</td>\n",
       "      <td>0.427332</td>\n",
       "      <td>0.645024</td>\n",
       "      <td>0.565558</td>\n",
       "      <td>0.451462</td>\n",
       "      <td>white</td>\n",
       "      <td>3</td>\n",
       "    </tr>\n",
       "    <tr>\n",
       "      <th>2</th>\n",
       "      <td>9</td>\n",
       "      <td>0.549602</td>\n",
       "      <td>0.491931</td>\n",
       "      <td>0.660387</td>\n",
       "      <td>0.449809</td>\n",
       "      <td>black</td>\n",
       "      <td>2</td>\n",
       "    </tr>\n",
       "    <tr>\n",
       "      <th>3</th>\n",
       "      <td>10</td>\n",
       "      <td>0.638095</td>\n",
       "      <td>0.682867</td>\n",
       "      <td>0.471409</td>\n",
       "      <td>0.356924</td>\n",
       "      <td>white</td>\n",
       "      <td>3</td>\n",
       "    </tr>\n",
       "    <tr>\n",
       "      <th>4</th>\n",
       "      <td>13</td>\n",
       "      <td>0.361762</td>\n",
       "      <td>0.583997</td>\n",
       "      <td>0.377256</td>\n",
       "      <td>0.276364</td>\n",
       "      <td>black</td>\n",
       "      <td>2</td>\n",
       "    </tr>\n",
       "    <tr>\n",
       "      <th>...</th>\n",
       "      <td>...</td>\n",
       "      <td>...</td>\n",
       "      <td>...</td>\n",
       "      <td>...</td>\n",
       "      <td>...</td>\n",
       "      <td>...</td>\n",
       "      <td>...</td>\n",
       "    </tr>\n",
       "    <tr>\n",
       "      <th>524</th>\n",
       "      <td>893</td>\n",
       "      <td>0.377573</td>\n",
       "      <td>0.390158</td>\n",
       "      <td>0.696465</td>\n",
       "      <td>0.355373</td>\n",
       "      <td>blue</td>\n",
       "      <td>4</td>\n",
       "    </tr>\n",
       "    <tr>\n",
       "      <th>525</th>\n",
       "      <td>894</td>\n",
       "      <td>0.229161</td>\n",
       "      <td>0.601265</td>\n",
       "      <td>0.191282</td>\n",
       "      <td>0.475115</td>\n",
       "      <td>clear</td>\n",
       "      <td>0</td>\n",
       "    </tr>\n",
       "    <tr>\n",
       "      <th>526</th>\n",
       "      <td>895</td>\n",
       "      <td>0.510497</td>\n",
       "      <td>0.498347</td>\n",
       "      <td>0.708020</td>\n",
       "      <td>0.714154</td>\n",
       "      <td>white</td>\n",
       "      <td>3</td>\n",
       "    </tr>\n",
       "    <tr>\n",
       "      <th>527</th>\n",
       "      <td>898</td>\n",
       "      <td>0.331472</td>\n",
       "      <td>0.765835</td>\n",
       "      <td>0.338207</td>\n",
       "      <td>0.193431</td>\n",
       "      <td>clear</td>\n",
       "      <td>0</td>\n",
       "    </tr>\n",
       "    <tr>\n",
       "      <th>528</th>\n",
       "      <td>899</td>\n",
       "      <td>0.256789</td>\n",
       "      <td>0.691802</td>\n",
       "      <td>0.415197</td>\n",
       "      <td>0.348971</td>\n",
       "      <td>white</td>\n",
       "      <td>3</td>\n",
       "    </tr>\n",
       "  </tbody>\n",
       "</table>\n",
       "<p>529 rows × 7 columns</p>\n",
       "</div>"
      ]
     },
     "execution_count": 24,
     "metadata": {},
     "output_type": "execute_result"
    }
   ],
   "execution_count": 24
  },
  {
   "cell_type": "code",
   "source": [
    "df_train_aux.columns"
   ],
   "metadata": {
    "colab": {
     "base_uri": "https://localhost:8080/"
    },
    "id": "9e6rM5SKm6aK",
    "executionInfo": {
     "status": "ok",
     "timestamp": 1719174406407,
     "user_tz": 180,
     "elapsed": 5,
     "user": {
      "displayName": "Melotti",
      "userId": "17660559320925208263"
     }
    },
    "outputId": "8f435a41-bab4-495a-fc2d-eb2839eda817",
    "ExecuteTime": {
     "end_time": "2024-07-01T15:45:57.756377Z",
     "start_time": "2024-07-01T15:45:57.750745Z"
    }
   },
   "outputs": [
    {
     "data": {
      "text/plain": [
       "Index(['id', 'bone_length', 'rotting_flesh', 'hair_length', 'has_soul',\n",
       "       'color', 'type', 'label', 'num_color'],\n",
       "      dtype='object')"
      ]
     },
     "execution_count": 25,
     "metadata": {},
     "output_type": "execute_result"
    }
   ],
   "execution_count": 25
  },
  {
   "cell_type": "markdown",
   "source": [
    "## Treino dos modelos e criação das métricas comparativas"
   ],
   "metadata": {
    "id": "uoeooLmwleRv"
   }
  },
  {
   "cell_type": "code",
   "source": [
    "d = DecisionTreeClassifier()\n",
    "r = RandomForestClassifier()\n",
    "kn = KNeighborsClassifier()"
   ],
   "metadata": {
    "id": "nKc3rJbUkS0A",
    "executionInfo": {
     "status": "ok",
     "timestamp": 1719174406407,
     "user_tz": 180,
     "elapsed": 4,
     "user": {
      "displayName": "Melotti",
      "userId": "17660559320925208263"
     }
    },
    "ExecuteTime": {
     "end_time": "2024-07-01T15:45:58.170326Z",
     "start_time": "2024-07-01T15:45:58.166442Z"
    }
   },
   "outputs": [],
   "execution_count": 26
  },
  {
   "cell_type": "code",
   "source": [
    "modeller=[d, r, kn]\n",
    "isimler=[\"DecisionTreeClassifier\", \"RandomForestClassifier\", \"KNeighborsClassifier\"]\n",
    "\n",
    "accuracy, precision, recall, f1, mdl = [], [], [], [], []"
   ],
   "metadata": {
    "id": "MDS0FGpnrex8",
    "executionInfo": {
     "status": "ok",
     "timestamp": 1719174406407,
     "user_tz": 180,
     "elapsed": 4,
     "user": {
      "displayName": "Melotti",
      "userId": "17660559320925208263"
     }
    },
    "ExecuteTime": {
     "end_time": "2024-07-01T15:45:58.459635Z",
     "start_time": "2024-07-01T15:45:58.454968Z"
    }
   },
   "outputs": [],
   "execution_count": 27
  },
  {
   "cell_type": "code",
   "source": [
    "for model in modeller:\n",
    "\n",
    "  x_train, x_test, y_train, y_test = train_test_split(df_train_aux[['bone_length', 'rotting_flesh', 'hair_length', 'has_soul', 'num_color']],\n",
    "                                                      df_train_aux[\"label\"],\n",
    "                                                      test_size=0.10,\n",
    "                                                      random_state = 42)\n",
    "\n",
    "  model=model.fit(x_train,y_train)\n",
    "  tahmin=model.predict(np.array(x_test) if model==kn else x_test)\n",
    "  mdl.append(model)\n",
    "  accuracy.append(accuracy_score(y_test, tahmin))\n",
    "  precision.append(precision_score(y_test, tahmin, average=\"micro\"))\n",
    "  recall.append(recall_score(y_test, tahmin, average=\"micro\"))\n",
    "  f1.append(f1_score(y_test, tahmin, average=\"micro\"))"
   ],
   "metadata": {
    "colab": {
     "base_uri": "https://localhost:8080/"
    },
    "id": "LZM8413Vrcgz",
    "executionInfo": {
     "status": "ok",
     "timestamp": 1719174407186,
     "user_tz": 180,
     "elapsed": 782,
     "user": {
      "displayName": "Melotti",
      "userId": "17660559320925208263"
     }
    },
    "outputId": "6466c128-d287-462d-87ee-49f66383b89c",
    "ExecuteTime": {
     "end_time": "2024-07-01T15:45:58.846672Z",
     "start_time": "2024-07-01T15:45:58.710202Z"
    }
   },
   "outputs": [
    {
     "name": "stderr",
     "output_type": "stream",
     "text": [
      "/home/melot/.local/lib/python3.10/site-packages/sklearn/base.py:493: UserWarning: X does not have valid feature names, but KNeighborsClassifier was fitted with feature names\n",
      "  warnings.warn(\n"
     ]
    }
   ],
   "execution_count": 28
  },
  {
   "cell_type": "code",
   "source": [
    "metrics=pd.DataFrame(columns=[\"Accuracy\", \"Precision\", \"Recall\", \"F1\", \"Model\"], index=isimler)\n",
    "metrics[\"Accuracy\"] = accuracy\n",
    "metrics[\"Precision\"] = precision\n",
    "metrics[\"Recall\"] = recall\n",
    "metrics[\"F1\"] = f1\n",
    "metrics[\"Model\"]=mdl\n",
    "\n",
    "metrics.sort_values(\"F1\", ascending=False, inplace=True)\n",
    "\n",
    "model=metrics.iloc[0,-1]\n",
    "tahmin=model.predict(np.array(x_test) if model==kn else x_test)\n",
    "print(\"classification Report:\")\n",
    "print(classification_report(y_test, tahmin))\n",
    "\n",
    "metrics.drop(\"Model\", axis=1)"
   ],
   "metadata": {
    "colab": {
     "base_uri": "https://localhost:8080/",
     "height": 334
    },
    "id": "M6OkukBRrq1a",
    "executionInfo": {
     "status": "ok",
     "timestamp": 1719174407186,
     "user_tz": 180,
     "elapsed": 4,
     "user": {
      "displayName": "Melotti",
      "userId": "17660559320925208263"
     }
    },
    "outputId": "54bbe171-6593-48ae-d36c-78440b34575b",
    "ExecuteTime": {
     "end_time": "2024-07-01T15:45:59.018583Z",
     "start_time": "2024-07-01T15:45:58.984782Z"
    }
   },
   "outputs": [
    {
     "name": "stdout",
     "output_type": "stream",
     "text": [
      "classification Report:\n",
      "              precision    recall  f1-score   support\n",
      "\n",
      "           0       0.90      0.69      0.78        13\n",
      "           1       0.67      0.71      0.69        14\n",
      "           2       0.69      0.82      0.75        11\n",
      "\n",
      "    accuracy                           0.74        38\n",
      "   macro avg       0.75      0.74      0.74        38\n",
      "weighted avg       0.75      0.74      0.74        38\n",
      "\n"
     ]
    },
    {
     "data": {
      "text/plain": [
       "                        Accuracy  Precision    Recall        F1\n",
       "RandomForestClassifier  0.736842   0.736842  0.736842  0.736842\n",
       "KNeighborsClassifier    0.684211   0.684211  0.684211  0.684211\n",
       "DecisionTreeClassifier  0.657895   0.657895  0.657895  0.657895"
      ],
      "text/html": [
       "<div>\n",
       "<style scoped>\n",
       "    .dataframe tbody tr th:only-of-type {\n",
       "        vertical-align: middle;\n",
       "    }\n",
       "\n",
       "    .dataframe tbody tr th {\n",
       "        vertical-align: top;\n",
       "    }\n",
       "\n",
       "    .dataframe thead th {\n",
       "        text-align: right;\n",
       "    }\n",
       "</style>\n",
       "<table border=\"1\" class=\"dataframe\">\n",
       "  <thead>\n",
       "    <tr style=\"text-align: right;\">\n",
       "      <th></th>\n",
       "      <th>Accuracy</th>\n",
       "      <th>Precision</th>\n",
       "      <th>Recall</th>\n",
       "      <th>F1</th>\n",
       "    </tr>\n",
       "  </thead>\n",
       "  <tbody>\n",
       "    <tr>\n",
       "      <th>RandomForestClassifier</th>\n",
       "      <td>0.736842</td>\n",
       "      <td>0.736842</td>\n",
       "      <td>0.736842</td>\n",
       "      <td>0.736842</td>\n",
       "    </tr>\n",
       "    <tr>\n",
       "      <th>KNeighborsClassifier</th>\n",
       "      <td>0.684211</td>\n",
       "      <td>0.684211</td>\n",
       "      <td>0.684211</td>\n",
       "      <td>0.684211</td>\n",
       "    </tr>\n",
       "    <tr>\n",
       "      <th>DecisionTreeClassifier</th>\n",
       "      <td>0.657895</td>\n",
       "      <td>0.657895</td>\n",
       "      <td>0.657895</td>\n",
       "      <td>0.657895</td>\n",
       "    </tr>\n",
       "  </tbody>\n",
       "</table>\n",
       "</div>"
      ]
     },
     "execution_count": 29,
     "metadata": {},
     "output_type": "execute_result"
    }
   ],
   "execution_count": 29
  },
  {
   "source": [
    "fig, ((ax1, ax2), (ax3, ax4)) = plt.subplots(2, 2, figsize=(12, 10))\n",
    "\n",
    "# Primeiro gráfico de linha\n",
    "ax1.plot(metrics['Accuracy'], marker='o')\n",
    "ax1.set_title('Gráfico de Accuracy')\n",
    "ax1.set_xlabel('Índice')\n",
    "ax1.set_ylabel('Accuracy')\n",
    "\n",
    "# Segundo gráfico de linha\n",
    "ax2.plot(metrics['Precision'], marker='o', color='orange')\n",
    "ax2.set_title('Gráfico de Precision')\n",
    "ax2.set_xlabel('Índice')\n",
    "ax2.set_ylabel('Precision')\n",
    "\n",
    "# Terceiro gráfico de linha\n",
    "ax3.plot(metrics['Recall'], marker='o', color='green')\n",
    "ax3.set_title('Gráfico de Recall')\n",
    "ax3.set_xlabel('Índice')\n",
    "ax3.set_ylabel('Recall')\n",
    "\n",
    "# Quarto gráfico de linha\n",
    "ax4.plot(metrics['F1'], marker='o', color='red')\n",
    "ax4.set_title('Gráfico de F1')\n",
    "ax4.set_xlabel('Índice')\n",
    "ax4.set_ylabel('F1 Score')\n",
    "\n",
    "plt.tight_layout()\n",
    "plt.show()"
   ],
   "cell_type": "code",
   "metadata": {
    "colab": {
     "base_uri": "https://localhost:8080/",
     "height": 1000
    },
    "id": "dvZ5yWpswggg",
    "executionInfo": {
     "status": "ok",
     "timestamp": 1719174409138,
     "user_tz": 180,
     "elapsed": 1954,
     "user": {
      "displayName": "Melotti",
      "userId": "17660559320925208263"
     }
    },
    "outputId": "ea2baeb0-d2ef-4caf-fee3-6769eac2acab",
    "ExecuteTime": {
     "end_time": "2024-07-01T15:45:59.891275Z",
     "start_time": "2024-07-01T15:45:59.424248Z"
    }
   },
   "outputs": [
    {
     "data": {
      "text/plain": [
       "<Figure size 1200x1000 with 4 Axes>"
      ],
      "image/png": "[encoded data removed]"
     },
     "metadata": {},
     "output_type": "display_data"
    }
   ],
   "execution_count": 30
  },
  {
   "cell_type": "markdown",
   "source": [
    "## Utilização do melhor modelo para predizer o dataset de teste"
   ],
   "metadata": {
    "id": "JrWxI9hWrtFK"
   }
  },
  {
   "cell_type": "code",
   "source": [
    "x_train, y_train = df_train_aux[['bone_length', 'rotting_flesh', 'hair_length', 'has_soul', 'num_color']], df_train_aux[\"label\"]"
   ],
   "metadata": {
    "id": "V7QAJDkutJmh",
    "executionInfo": {
     "status": "ok",
     "timestamp": 1719174409139,
     "user_tz": 180,
     "elapsed": 6,
     "user": {
      "displayName": "Melotti",
      "userId": "17660559320925208263"
     }
    },
    "ExecuteTime": {
     "end_time": "2024-07-01T15:46:00.837084Z",
     "start_time": "2024-07-01T15:46:00.831520Z"
    }
   },
   "outputs": [],
   "execution_count": 31
  },
  {
   "cell_type": "code",
   "source": [
    "rfc = RandomForestClassifier()\n",
    "rfc_model = rfc.fit(x_train, y_train)"
   ],
   "metadata": {
    "id": "dTwLb1htqFMM",
    "executionInfo": {
     "status": "ok",
     "timestamp": 1719174409139,
     "user_tz": 180,
     "elapsed": 5,
     "user": {
      "displayName": "Melotti",
      "userId": "17660559320925208263"
     }
    },
    "ExecuteTime": {
     "end_time": "2024-07-01T15:46:01.177171Z",
     "start_time": "2024-07-01T15:46:01.065626Z"
    }
   },
   "outputs": [],
   "execution_count": 32
  },
  {
   "cell_type": "code",
   "source": [
    "x = pd.get_dummies(df_test_aux[['bone_length', 'rotting_flesh', 'hair_length', 'has_soul', 'num_color']], drop_first=True)\n",
    "x"
   ],
   "metadata": {
    "colab": {
     "base_uri": "https://localhost:8080/",
     "height": 423
    },
    "id": "00YrG9OPsd8o",
    "executionInfo": {
     "status": "ok",
     "timestamp": 1719174409139,
     "user_tz": 180,
     "elapsed": 5,
     "user": {
      "displayName": "Melotti",
      "userId": "17660559320925208263"
     }
    },
    "outputId": "6d69aab1-752e-4dc9-84d4-6e6cff2950ce",
    "ExecuteTime": {
     "end_time": "2024-07-01T15:46:01.439905Z",
     "start_time": "2024-07-01T15:46:01.425939Z"
    }
   },
   "outputs": [
    {
     "data": {
      "text/plain": [
       "     bone_length  rotting_flesh  hair_length  has_soul  num_color\n",
       "0       0.471774       0.387937     0.706087  0.698537          2\n",
       "1       0.427332       0.645024     0.565558  0.451462          3\n",
       "2       0.549602       0.491931     0.660387  0.449809          2\n",
       "3       0.638095       0.682867     0.471409  0.356924          3\n",
       "4       0.361762       0.583997     0.377256  0.276364          2\n",
       "..           ...            ...          ...       ...        ...\n",
       "524     0.377573       0.390158     0.696465  0.355373          4\n",
       "525     0.229161       0.601265     0.191282  0.475115          0\n",
       "526     0.510497       0.498347     0.708020  0.714154          3\n",
       "527     0.331472       0.765835     0.338207  0.193431          0\n",
       "528     0.256789       0.691802     0.415197  0.348971          3\n",
       "\n",
       "[529 rows x 5 columns]"
      ],
      "text/html": [
       "<div>\n",
       "<style scoped>\n",
       "    .dataframe tbody tr th:only-of-type {\n",
       "        vertical-align: middle;\n",
       "    }\n",
       "\n",
       "    .dataframe tbody tr th {\n",
       "        vertical-align: top;\n",
       "    }\n",
       "\n",
       "    .dataframe thead th {\n",
       "        text-align: right;\n",
       "    }\n",
       "</style>\n",
       "<table border=\"1\" class=\"dataframe\">\n",
       "  <thead>\n",
       "    <tr style=\"text-align: right;\">\n",
       "      <th></th>\n",
       "      <th>bone_length</th>\n",
       "      <th>rotting_flesh</th>\n",
       "      <th>hair_length</th>\n",
       "      <th>has_soul</th>\n",
       "      <th>num_color</th>\n",
       "    </tr>\n",
       "  </thead>\n",
       "  <tbody>\n",
       "    <tr>\n",
       "      <th>0</th>\n",
       "      <td>0.471774</td>\n",
       "      <td>0.387937</td>\n",
       "      <td>0.706087</td>\n",
       "      <td>0.698537</td>\n",
       "      <td>2</td>\n",
       "    </tr>\n",
       "    <tr>\n",
       "      <th>1</th>\n",
       "      <td>0.427332</td>\n",
       "      <td>0.645024</td>\n",
       "      <td>0.565558</td>\n",
       "      <td>0.451462</td>\n",
       "      <td>3</td>\n",
       "    </tr>\n",
       "    <tr>\n",
       "      <th>2</th>\n",
       "      <td>0.549602</td>\n",
       "      <td>0.491931</td>\n",
       "      <td>0.660387</td>\n",
       "      <td>0.449809</td>\n",
       "      <td>2</td>\n",
       "    </tr>\n",
       "    <tr>\n",
       "      <th>3</th>\n",
       "      <td>0.638095</td>\n",
       "      <td>0.682867</td>\n",
       "      <td>0.471409</td>\n",
       "      <td>0.356924</td>\n",
       "      <td>3</td>\n",
       "    </tr>\n",
       "    <tr>\n",
       "      <th>4</th>\n",
       "      <td>0.361762</td>\n",
       "      <td>0.583997</td>\n",
       "      <td>0.377256</td>\n",
       "      <td>0.276364</td>\n",
       "      <td>2</td>\n",
       "    </tr>\n",
       "    <tr>\n",
       "      <th>...</th>\n",
       "      <td>...</td>\n",
       "      <td>...</td>\n",
       "      <td>...</td>\n",
       "      <td>...</td>\n",
       "      <td>...</td>\n",
       "    </tr>\n",
       "    <tr>\n",
       "      <th>524</th>\n",
       "      <td>0.377573</td>\n",
       "      <td>0.390158</td>\n",
       "      <td>0.696465</td>\n",
       "      <td>0.355373</td>\n",
       "      <td>4</td>\n",
       "    </tr>\n",
       "    <tr>\n",
       "      <th>525</th>\n",
       "      <td>0.229161</td>\n",
       "      <td>0.601265</td>\n",
       "      <td>0.191282</td>\n",
       "      <td>0.475115</td>\n",
       "      <td>0</td>\n",
       "    </tr>\n",
       "    <tr>\n",
       "      <th>526</th>\n",
       "      <td>0.510497</td>\n",
       "      <td>0.498347</td>\n",
       "      <td>0.708020</td>\n",
       "      <td>0.714154</td>\n",
       "      <td>3</td>\n",
       "    </tr>\n",
       "    <tr>\n",
       "      <th>527</th>\n",
       "      <td>0.331472</td>\n",
       "      <td>0.765835</td>\n",
       "      <td>0.338207</td>\n",
       "      <td>0.193431</td>\n",
       "      <td>0</td>\n",
       "    </tr>\n",
       "    <tr>\n",
       "      <th>528</th>\n",
       "      <td>0.256789</td>\n",
       "      <td>0.691802</td>\n",
       "      <td>0.415197</td>\n",
       "      <td>0.348971</td>\n",
       "      <td>3</td>\n",
       "    </tr>\n",
       "  </tbody>\n",
       "</table>\n",
       "<p>529 rows × 5 columns</p>\n",
       "</div>"
      ]
     },
     "execution_count": 33,
     "metadata": {},
     "output_type": "execute_result"
    }
   ],
   "execution_count": 33
  },
  {
   "cell_type": "code",
   "source": [
    "pred = rfc_model.predict(x)\n",
    "pred_monsters = []\n",
    "for i in pred:\n",
    "  pred_monsters.append(labels_ant[i])"
   ],
   "metadata": {
    "id": "DjtQXYIisnUd",
    "executionInfo": {
     "status": "ok",
     "timestamp": 1719174409139,
     "user_tz": 180,
     "elapsed": 4,
     "user": {
      "displayName": "Melotti",
      "userId": "17660559320925208263"
     }
    },
    "ExecuteTime": {
     "end_time": "2024-07-01T15:46:02.145318Z",
     "start_time": "2024-07-01T15:46:02.130904Z"
    }
   },
   "outputs": [],
   "execution_count": 34
  },
  {
   "cell_type": "code",
   "source": [
    "df_result = df_test.copy()\n",
    "df_result['monster_pred'] = pred_monsters\n",
    "merged_df = pd.merge(df_result, df_ssub, on='id', how='inner')\n",
    "merged_df = merged_df.rename(columns={\"type\": \"monster\"})\n",
    "merged_df"
   ],
   "metadata": {
    "colab": {
     "base_uri": "https://localhost:8080/",
     "height": 423
    },
    "id": "5KQiBd46ulK4",
    "executionInfo": {
     "status": "ok",
     "timestamp": 1719175408815,
     "user_tz": 180,
     "elapsed": 336,
     "user": {
      "displayName": "Melotti",
      "userId": "17660559320925208263"
     }
    },
    "outputId": "b8dfff0f-86ce-4ef4-af88-a7571e305c50",
    "ExecuteTime": {
     "end_time": "2024-07-01T15:46:02.854427Z",
     "start_time": "2024-07-01T15:46:02.824737Z"
    }
   },
   "outputs": [
    {
     "data": {
      "text/plain": [
       "      id  bone_length  rotting_flesh  hair_length  has_soul  color  \\\n",
       "0      3     0.471774       0.387937     0.706087  0.698537  black   \n",
       "1      6     0.427332       0.645024     0.565558  0.451462  white   \n",
       "2      9     0.549602       0.491931     0.660387  0.449809  black   \n",
       "3     10     0.638095       0.682867     0.471409  0.356924  white   \n",
       "4     13     0.361762       0.583997     0.377256  0.276364  black   \n",
       "..   ...          ...            ...          ...       ...    ...   \n",
       "524  893     0.377573       0.390158     0.696465  0.355373   blue   \n",
       "525  894     0.229161       0.601265     0.191282  0.475115  clear   \n",
       "526  895     0.510497       0.498347     0.708020  0.714154  white   \n",
       "527  898     0.331472       0.765835     0.338207  0.193431  clear   \n",
       "528  899     0.256789       0.691802     0.415197  0.348971  white   \n",
       "\n",
       "    monster_pred monster  \n",
       "0          Ghost   Ghost  \n",
       "1         Goblin   Ghost  \n",
       "2          Ghost   Ghost  \n",
       "3          Ghoul   Ghost  \n",
       "4          Ghoul   Ghost  \n",
       "..           ...     ...  \n",
       "524       Goblin   Ghost  \n",
       "525        Ghoul   Ghost  \n",
       "526        Ghost   Ghost  \n",
       "527        Ghoul   Ghost  \n",
       "528        Ghoul   Ghost  \n",
       "\n",
       "[529 rows x 8 columns]"
      ],
      "text/html": [
       "<div>\n",
       "<style scoped>\n",
       "    .dataframe tbody tr th:only-of-type {\n",
       "        vertical-align: middle;\n",
       "    }\n",
       "\n",
       "    .dataframe tbody tr th {\n",
       "        vertical-align: top;\n",
       "    }\n",
       "\n",
       "    .dataframe thead th {\n",
       "        text-align: right;\n",
       "    }\n",
       "</style>\n",
       "<table border=\"1\" class=\"dataframe\">\n",
       "  <thead>\n",
       "    <tr style=\"text-align: right;\">\n",
       "      <th></th>\n",
       "      <th>id</th>\n",
       "      <th>bone_length</th>\n",
       "      <th>rotting_flesh</th>\n",
       "      <th>hair_length</th>\n",
       "      <th>has_soul</th>\n",
       "      <th>color</th>\n",
       "      <th>monster_pred</th>\n",
       "      <th>monster</th>\n",
       "    </tr>\n",
       "  </thead>\n",
       "  <tbody>\n",
       "    <tr>\n",
       "      <th>0</th>\n",
       "      <td>3</td>\n",
       "      <td>0.471774</td>\n",
       "      <td>0.387937</td>\n",
       "      <td>0.706087</td>\n",
       "      <td>0.698537</td>\n",
       "      <td>black</td>\n",
       "      <td>Ghost</td>\n",
       "      <td>Ghost</td>\n",
       "    </tr>\n",
       "    <tr>\n",
       "      <th>1</th>\n",
       "      <td>6</td>\n",
       "      <td>0.427332</td>\n",
       "      <td>0.645024</td>\n",
       "      <td>0.565558</td>\n",
       "      <td>0.451462</td>\n",
       "      <td>white</td>\n",
       "      <td>Goblin</td>\n",
       "      <td>Ghost</td>\n",
       "    </tr>\n",
       "    <tr>\n",
       "      <th>2</th>\n",
       "      <td>9</td>\n",
       "      <td>0.549602</td>\n",
       "      <td>0.491931</td>\n",
       "      <td>0.660387</td>\n",
       "      <td>0.449809</td>\n",
       "      <td>black</td>\n",
       "      <td>Ghost</td>\n",
       "      <td>Ghost</td>\n",
       "    </tr>\n",
       "    <tr>\n",
       "      <th>3</th>\n",
       "      <td>10</td>\n",
       "      <td>0.638095</td>\n",
       "      <td>0.682867</td>\n",
       "      <td>0.471409</td>\n",
       "      <td>0.356924</td>\n",
       "      <td>white</td>\n",
       "      <td>Ghoul</td>\n",
       "      <td>Ghost</td>\n",
       "    </tr>\n",
       "    <tr>\n",
       "      <th>4</th>\n",
       "      <td>13</td>\n",
       "      <td>0.361762</td>\n",
       "      <td>0.583997</td>\n",
       "      <td>0.377256</td>\n",
       "      <td>0.276364</td>\n",
       "      <td>black</td>\n",
       "      <td>Ghoul</td>\n",
       "      <td>Ghost</td>\n",
       "    </tr>\n",
       "    <tr>\n",
       "      <th>...</th>\n",
       "      <td>...</td>\n",
       "      <td>...</td>\n",
       "      <td>...</td>\n",
       "      <td>...</td>\n",
       "      <td>...</td>\n",
       "      <td>...</td>\n",
       "      <td>...</td>\n",
       "      <td>...</td>\n",
       "    </tr>\n",
       "    <tr>\n",
       "      <th>524</th>\n",
       "      <td>893</td>\n",
       "      <td>0.377573</td>\n",
       "      <td>0.390158</td>\n",
       "      <td>0.696465</td>\n",
       "      <td>0.355373</td>\n",
       "      <td>blue</td>\n",
       "      <td>Goblin</td>\n",
       "      <td>Ghost</td>\n",
       "    </tr>\n",
       "    <tr>\n",
       "      <th>525</th>\n",
       "      <td>894</td>\n",
       "      <td>0.229161</td>\n",
       "      <td>0.601265</td>\n",
       "      <td>0.191282</td>\n",
       "      <td>0.475115</td>\n",
       "      <td>clear</td>\n",
       "      <td>Ghoul</td>\n",
       "      <td>Ghost</td>\n",
       "    </tr>\n",
       "    <tr>\n",
       "      <th>526</th>\n",
       "      <td>895</td>\n",
       "      <td>0.510497</td>\n",
       "      <td>0.498347</td>\n",
       "      <td>0.708020</td>\n",
       "      <td>0.714154</td>\n",
       "      <td>white</td>\n",
       "      <td>Ghost</td>\n",
       "      <td>Ghost</td>\n",
       "    </tr>\n",
       "    <tr>\n",
       "      <th>527</th>\n",
       "      <td>898</td>\n",
       "      <td>0.331472</td>\n",
       "      <td>0.765835</td>\n",
       "      <td>0.338207</td>\n",
       "      <td>0.193431</td>\n",
       "      <td>clear</td>\n",
       "      <td>Ghoul</td>\n",
       "      <td>Ghost</td>\n",
       "    </tr>\n",
       "    <tr>\n",
       "      <th>528</th>\n",
       "      <td>899</td>\n",
       "      <td>0.256789</td>\n",
       "      <td>0.691802</td>\n",
       "      <td>0.415197</td>\n",
       "      <td>0.348971</td>\n",
       "      <td>white</td>\n",
       "      <td>Ghoul</td>\n",
       "      <td>Ghost</td>\n",
       "    </tr>\n",
       "  </tbody>\n",
       "</table>\n",
       "<p>529 rows × 8 columns</p>\n",
       "</div>"
      ]
     },
     "execution_count": 35,
     "metadata": {},
     "output_type": "execute_result"
    }
   ],
   "execution_count": 35
  },
  {
   "cell_type": "code",
   "source": [
    "identical_records = merged_df[merged_df['monster_pred'] == merged_df['monster']]\n",
    "len(identical_records)"
   ],
   "metadata": {
    "colab": {
     "base_uri": "https://localhost:8080/"
    },
    "id": "tIwzq6i4u9th",
    "executionInfo": {
     "status": "ok",
     "timestamp": 1719175549548,
     "user_tz": 180,
     "elapsed": 292,
     "user": {
      "displayName": "Melotti",
      "userId": "17660559320925208263"
     }
    },
    "outputId": "eb198239-8ad2-4bbb-ed70-ee6530294de0",
    "ExecuteTime": {
     "end_time": "2024-07-01T15:46:03.847392Z",
     "start_time": "2024-07-01T15:46:03.841044Z"
    }
   },
   "outputs": [
    {
     "data": {
      "text/plain": [
       "172"
      ]
     },
     "execution_count": 36,
     "metadata": {},
     "output_type": "execute_result"
    }
   ],
   "execution_count": 36
  },
  {
   "cell_type": "code",
   "source": [
    "distinct_records = merged_df[merged_df['monster_pred'] != merged_df['monster']]\n",
    "len(distinct_records)"
   ],
   "metadata": {
    "colab": {
     "base_uri": "https://localhost:8080/"
    },
    "id": "BTo_Q1bP2DGn",
    "executionInfo": {
     "status": "ok",
     "timestamp": 1719175552832,
     "user_tz": 180,
     "elapsed": 418,
     "user": {
      "displayName": "Melotti",
      "userId": "17660559320925208263"
     }
    },
    "outputId": "ce81ccbc-e944-453d-a4ce-8f3cd13bff33",
    "ExecuteTime": {
     "end_time": "2024-07-01T15:46:04.653321Z",
     "start_time": "2024-07-01T15:46:04.646216Z"
    }
   },
   "outputs": [
    {
     "data": {
      "text/plain": [
       "357"
      ]
     },
     "execution_count": 37,
     "metadata": {},
     "output_type": "execute_result"
    }
   ],
   "execution_count": 37
  },
  {
   "cell_type": "markdown",
   "source": [
    "## Conclusão\n",
    "\n",
    "Neste projeto, abordamos o desafio \"Ghouls, Goblins and Ghosts...\" proposto pela Kaggle, cujo objetivo é identificar e classificar corretamente criaturas sobrenaturais utilizando algoritmos de machine learning. Utilizamos uma base de dados com 900 registros, sendo 371 registros alocados para treino e o restante para teste. Exploramos e pré-processamos os dados, transformando variáveis categóricas em numéricas e preparando os dados para o treinamento dos modelos.\n",
    "\n",
    "Implementamos e avaliamos três algoritmos de machine learning: RandomForestClassifier, KNeighborsClassifier e DecisionTreeClassifier.\n",
    "\n",
    "Abaixo estão os resultados obtidos para cada modelo em termos de acurácia, precisão, recall e F1-score:\n",
    "\n",
    "|Modelo|Acurácia|Precisão|Recall|F1|\n",
    "| ------------- | ------------- | ------------- | ------------- | ------------- |\n",
    "|RandomForestClassifier|0.710526|0.710526|0.710526|0.710526|\n",
    "|KNeighborsClassifier|0.684211|0.684211|0.684211|0.684211|\n",
    "|DecisionTreeClassifier|0.631579|0.631579|0.631579|0.631579|"
   ],
   "metadata": {
    "id": "cLU2wRlO0eLU"
   }
  },
  {
   "cell_type": "markdown",
   "source": [
    "### **Algoritmos Utilizados**\n",
    "\n",
    "**RandomForestClassifier:**\n",
    "\n",
    "Descrição: É um algoritmo de ensemble que utiliza múltiplas árvores de decisão para realizar classificações. Cada árvore é treinada em um subconjunto diferente dos dados, e a decisão final é tomada com base na maioria das previsões das árvores.\n",
    "Resultado: O modelo RandomForestClassifier apresentou a melhor performance entre os três algoritmos, com uma acurácia de 71.05%.\n",
    "\n",
    "**KNeighborsClassifier:**\n",
    "\n",
    "Descrição: Este algoritmo classifica os pontos de dados com base nos rótulos dos pontos de dados mais próximos no espaço de características. O número de vizinhos (k) é um hiperparâmetro que pode ser ajustado para otimizar a performance.\n",
    "Resultado: O KNeighborsClassifier teve uma acurácia de 68.42%, mostrando um desempenho razoável na classificação das criaturas.\n",
    "\n",
    "**DecisionTreeClassifier:**\n",
    "\n",
    "Descrição: Utiliza uma estrutura de árvore para tomar decisões de classificação com base em uma série de perguntas sim/não sobre os atributos dos dados. Cada nó da árvore representa uma decisão baseada em um atributo, levando a uma classificação final.\n",
    "Resultado: O modelo DecisionTreeClassifier teve a menor acurácia, com 63.16%, indicando que uma única árvore de decisão pode não ser suficiente para capturar a complexidade dos dados."
   ],
   "metadata": {
    "id": "cS4WVZPq68bM"
   }
  },
  {
   "cell_type": "markdown",
   "source": [
    "### **Conclusão Final**\n",
    "\n",
    "Através da implementação e avaliação de diferentes algoritmos de machine learning, fomos capazes de construir modelos que identificam e classificam criaturas sobrenaturais com um nível razoável de precisão. O RandomForestClassifier se destacou como o modelo mais eficaz, sugerindo que métodos de ensemble podem ser mais robustos e fornecer melhores resultados em problemas de classificação complexos.\n",
    "\n",
    "Este projeto forneceu uma experiência prática valiosa na aplicação de técnicas de machine learning para resolver problemas reais. A análise e o pré-processamento cuidadoso dos dados, juntamente com a seleção e avaliação de modelos apropriados, foram fundamentais para alcançar resultados satisfatórios.\n",
    "\n",
    "Vamos agora utilizar este conhecimento para continuar aprimorando nossos modelos e explorar outras técnicas que possam melhorar ainda mais a precisão da classificação."
   ],
   "metadata": {
    "id": "Bjt-GNK_7ZoW"
   }
  },
  {
   "metadata": {},
   "cell_type": "code",
   "outputs": [],
   "execution_count": null,
   "source": ""
  }
 ]
}
